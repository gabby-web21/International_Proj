{
 "cells": [
  {
   "cell_type": "code",
   "execution_count": 1,
   "id": "029f2926-aac8-4a3a-b1cf-c67ce065d857",
   "metadata": {},
   "outputs": [],
   "source": [
    "import pandas as pd\n",
    "import numpy as np\n",
    "import matplotlib.pyplot as plt\n",
    "from statsmodels.tsa.arima.model import ARIMA\n",
    "from statsmodels.graphics.tsaplots import plot_acf, plot_pacf\n",
    "from sklearn.metrics import mean_squared_error\n"
   ]
  },
  {
   "cell_type": "code",
   "execution_count": 6,
   "id": "0b8663dd-0b44-4f41-982b-a7c36a1eff26",
   "metadata": {
    "scrolled": true
   },
   "outputs": [
    {
     "ename": "ValueError",
     "evalue": "unconverted data remains when parsing with format \"%Y-%d-%m\": \"3\", at position 12. You might want to try:\n    - passing `format` if your strings have a consistent format;\n    - passing `format='ISO8601'` if your strings are all ISO8601 but not necessarily in exactly the same format;\n    - passing `format='mixed'`, and the format will be inferred for each element individually. You might want to use `dayfirst` alongside this.",
     "output_type": "error",
     "traceback": [
      "\u001b[1;31m---------------------------------------------------------------------------\u001b[0m",
      "\u001b[1;31mValueError\u001b[0m                                Traceback (most recent call last)",
      "Cell \u001b[1;32mIn[6], line 7\u001b[0m\n\u001b[0;32m      4\u001b[0m data \u001b[38;5;241m=\u001b[39m pd\u001b[38;5;241m.\u001b[39mread_csv(\u001b[38;5;124m'\u001b[39m\u001b[38;5;124mC:\u001b[39m\u001b[38;5;130;01m\\\\\u001b[39;00m\u001b[38;5;124mUsers\u001b[39m\u001b[38;5;130;01m\\\\\u001b[39;00m\u001b[38;5;124mKirsten\u001b[39m\u001b[38;5;130;01m\\\\\u001b[39;00m\u001b[38;5;124mDesktop\u001b[39m\u001b[38;5;130;01m\\\\\u001b[39;00m\u001b[38;5;124mWeather dataset sep 2018.csv\u001b[39m\u001b[38;5;124m'\u001b[39m)\n\u001b[0;32m      6\u001b[0m \u001b[38;5;66;03m# Convert the 'Date' column to datetime format with day-first format (DD/MM/YYYY)\u001b[39;00m\n\u001b[1;32m----> 7\u001b[0m data[\u001b[38;5;124m'\u001b[39m\u001b[38;5;124mDate\u001b[39m\u001b[38;5;124m'\u001b[39m] \u001b[38;5;241m=\u001b[39m pd\u001b[38;5;241m.\u001b[39mto_datetime(data[\u001b[38;5;124m'\u001b[39m\u001b[38;5;124mDate\u001b[39m\u001b[38;5;124m'\u001b[39m], dayfirst\u001b[38;5;241m=\u001b[39m\u001b[38;5;28;01mTrue\u001b[39;00m)\n\u001b[0;32m      9\u001b[0m \u001b[38;5;66;03m# Set the Date column as the index\u001b[39;00m\n\u001b[0;32m     10\u001b[0m data\u001b[38;5;241m.\u001b[39mset_index(\u001b[38;5;124m'\u001b[39m\u001b[38;5;124mDate\u001b[39m\u001b[38;5;124m'\u001b[39m, inplace\u001b[38;5;241m=\u001b[39m\u001b[38;5;28;01mTrue\u001b[39;00m)\n",
      "File \u001b[1;32m~\\anaconda3\\Lib\\site-packages\\pandas\\core\\tools\\datetimes.py:1067\u001b[0m, in \u001b[0;36mto_datetime\u001b[1;34m(arg, errors, dayfirst, yearfirst, utc, format, exact, unit, infer_datetime_format, origin, cache)\u001b[0m\n\u001b[0;32m   1065\u001b[0m         result \u001b[38;5;241m=\u001b[39m arg\u001b[38;5;241m.\u001b[39mmap(cache_array)\n\u001b[0;32m   1066\u001b[0m     \u001b[38;5;28;01melse\u001b[39;00m:\n\u001b[1;32m-> 1067\u001b[0m         values \u001b[38;5;241m=\u001b[39m convert_listlike(arg\u001b[38;5;241m.\u001b[39m_values, \u001b[38;5;28mformat\u001b[39m)\n\u001b[0;32m   1068\u001b[0m         result \u001b[38;5;241m=\u001b[39m arg\u001b[38;5;241m.\u001b[39m_constructor(values, index\u001b[38;5;241m=\u001b[39marg\u001b[38;5;241m.\u001b[39mindex, name\u001b[38;5;241m=\u001b[39marg\u001b[38;5;241m.\u001b[39mname)\n\u001b[0;32m   1069\u001b[0m \u001b[38;5;28;01melif\u001b[39;00m \u001b[38;5;28misinstance\u001b[39m(arg, (ABCDataFrame, abc\u001b[38;5;241m.\u001b[39mMutableMapping)):\n",
      "File \u001b[1;32m~\\anaconda3\\Lib\\site-packages\\pandas\\core\\tools\\datetimes.py:433\u001b[0m, in \u001b[0;36m_convert_listlike_datetimes\u001b[1;34m(arg, format, name, utc, unit, errors, dayfirst, yearfirst, exact)\u001b[0m\n\u001b[0;32m    431\u001b[0m \u001b[38;5;66;03m# `format` could be inferred, or user didn't ask for mixed-format parsing.\u001b[39;00m\n\u001b[0;32m    432\u001b[0m \u001b[38;5;28;01mif\u001b[39;00m \u001b[38;5;28mformat\u001b[39m \u001b[38;5;129;01mis\u001b[39;00m \u001b[38;5;129;01mnot\u001b[39;00m \u001b[38;5;28;01mNone\u001b[39;00m \u001b[38;5;129;01mand\u001b[39;00m \u001b[38;5;28mformat\u001b[39m \u001b[38;5;241m!=\u001b[39m \u001b[38;5;124m\"\u001b[39m\u001b[38;5;124mmixed\u001b[39m\u001b[38;5;124m\"\u001b[39m:\n\u001b[1;32m--> 433\u001b[0m     \u001b[38;5;28;01mreturn\u001b[39;00m _array_strptime_with_fallback(arg, name, utc, \u001b[38;5;28mformat\u001b[39m, exact, errors)\n\u001b[0;32m    435\u001b[0m result, tz_parsed \u001b[38;5;241m=\u001b[39m objects_to_datetime64(\n\u001b[0;32m    436\u001b[0m     arg,\n\u001b[0;32m    437\u001b[0m     dayfirst\u001b[38;5;241m=\u001b[39mdayfirst,\n\u001b[1;32m   (...)\u001b[0m\n\u001b[0;32m    441\u001b[0m     allow_object\u001b[38;5;241m=\u001b[39m\u001b[38;5;28;01mTrue\u001b[39;00m,\n\u001b[0;32m    442\u001b[0m )\n\u001b[0;32m    444\u001b[0m \u001b[38;5;28;01mif\u001b[39;00m tz_parsed \u001b[38;5;129;01mis\u001b[39;00m \u001b[38;5;129;01mnot\u001b[39;00m \u001b[38;5;28;01mNone\u001b[39;00m:\n\u001b[0;32m    445\u001b[0m     \u001b[38;5;66;03m# We can take a shortcut since the datetime64 numpy array\u001b[39;00m\n\u001b[0;32m    446\u001b[0m     \u001b[38;5;66;03m# is in UTC\u001b[39;00m\n",
      "File \u001b[1;32m~\\anaconda3\\Lib\\site-packages\\pandas\\core\\tools\\datetimes.py:467\u001b[0m, in \u001b[0;36m_array_strptime_with_fallback\u001b[1;34m(arg, name, utc, fmt, exact, errors)\u001b[0m\n\u001b[0;32m    456\u001b[0m \u001b[38;5;28;01mdef\u001b[39;00m \u001b[38;5;21m_array_strptime_with_fallback\u001b[39m(\n\u001b[0;32m    457\u001b[0m     arg,\n\u001b[0;32m    458\u001b[0m     name,\n\u001b[1;32m   (...)\u001b[0m\n\u001b[0;32m    462\u001b[0m     errors: \u001b[38;5;28mstr\u001b[39m,\n\u001b[0;32m    463\u001b[0m ) \u001b[38;5;241m-\u001b[39m\u001b[38;5;241m>\u001b[39m Index:\n\u001b[0;32m    464\u001b[0m \u001b[38;5;250m    \u001b[39m\u001b[38;5;124;03m\"\"\"\u001b[39;00m\n\u001b[0;32m    465\u001b[0m \u001b[38;5;124;03m    Call array_strptime, with fallback behavior depending on 'errors'.\u001b[39;00m\n\u001b[0;32m    466\u001b[0m \u001b[38;5;124;03m    \"\"\"\u001b[39;00m\n\u001b[1;32m--> 467\u001b[0m     result, tz_out \u001b[38;5;241m=\u001b[39m array_strptime(arg, fmt, exact\u001b[38;5;241m=\u001b[39mexact, errors\u001b[38;5;241m=\u001b[39merrors, utc\u001b[38;5;241m=\u001b[39mutc)\n\u001b[0;32m    468\u001b[0m     \u001b[38;5;28;01mif\u001b[39;00m tz_out \u001b[38;5;129;01mis\u001b[39;00m \u001b[38;5;129;01mnot\u001b[39;00m \u001b[38;5;28;01mNone\u001b[39;00m:\n\u001b[0;32m    469\u001b[0m         unit \u001b[38;5;241m=\u001b[39m np\u001b[38;5;241m.\u001b[39mdatetime_data(result\u001b[38;5;241m.\u001b[39mdtype)[\u001b[38;5;241m0\u001b[39m]\n",
      "File \u001b[1;32mstrptime.pyx:501\u001b[0m, in \u001b[0;36mpandas._libs.tslibs.strptime.array_strptime\u001b[1;34m()\u001b[0m\n",
      "File \u001b[1;32mstrptime.pyx:451\u001b[0m, in \u001b[0;36mpandas._libs.tslibs.strptime.array_strptime\u001b[1;34m()\u001b[0m\n",
      "File \u001b[1;32mstrptime.pyx:587\u001b[0m, in \u001b[0;36mpandas._libs.tslibs.strptime._parse_with_format\u001b[1;34m()\u001b[0m\n",
      "\u001b[1;31mValueError\u001b[0m: unconverted data remains when parsing with format \"%Y-%d-%m\": \"3\", at position 12. You might want to try:\n    - passing `format` if your strings have a consistent format;\n    - passing `format='ISO8601'` if your strings are all ISO8601 but not necessarily in exactly the same format;\n    - passing `format='mixed'`, and the format will be inferred for each element individually. You might want to use `dayfirst` alongside this."
     ]
    }
   ],
   "source": [
    "import pandas as pd\n",
    "\n",
    "# Load the dataset\n",
    "data = pd.read_csv('C:\\\\Users\\\\Kirsten\\\\Desktop\\\\Weather dataset sep 2018.csv')\n",
    "\n",
    "# Convert the 'Date' column to datetime format with day-first format (DD/MM/YYYY)\n",
    "data['Date'] = pd.to_datetime(data['Date'], dayfirst=True)\n",
    "\n",
    "# Set the Date column as the index\n",
    "data.set_index('Date', inplace=True)\n",
    "\n",
    "# Check the first few rows to verify\n",
    "print(data.head())"
   ]
  },
  {
   "cell_type": "code",
   "execution_count": 7,
   "id": "aff013df-9392-4227-a412-77d0a144d6cf",
   "metadata": {},
   "outputs": [
    {
     "name": "stdout",
     "output_type": "stream",
     "text": [
      "0     2018-09-01\n",
      "1     2018-09-02\n",
      "2     2018-09-03\n",
      "3     2018-09-04\n",
      "4     2018-09-05\n",
      "5     2018-09-06\n",
      "6     2018-09-07\n",
      "7     2018-09-08\n",
      "8     2018-09-09\n",
      "9     2018-09-10\n",
      "10    2018-09-11\n",
      "11    2018-09-12\n",
      "12    2018-09-13\n",
      "13    2018-09-14\n",
      "14    2018-09-15\n",
      "15    2018-09-16\n",
      "16    2018-09-17\n",
      "17    2018-09-18\n",
      "18    2018-09-19\n",
      "19    2018-09-20\n",
      "Name: Date, dtype: object\n",
      "   Date  Temperature (Fahrenheit) MAX   AVG  MIN  Precipitation (in)\n",
      "0   NaT                            81  64.0   48                   0\n",
      "1   NaT                            81  65.3   48                   0\n",
      "2   NaT                            72  63.0   52                   0\n",
      "3   NaT                            82  59.9   39                   0\n",
      "4   NaT                            86  65.7   48                   0\n",
      "5   NaT                            86  73.8   64                   0\n",
      "6   NaT                            73  51.6    0                   0\n",
      "7   NaT                            72  56.3   46                   0\n",
      "8   NaT                            64  49.4   37                   0\n",
      "9   NaT                            70  52.9   34                   0\n",
      "10  NaT                            75  56.9   39                   0\n",
      "11  NaT                            81  63.1   45                   0\n",
      "12  NaT                            82  67.1   57                   0\n",
      "13  NaT                            84  64.6   45                   0\n",
      "14  NaT                            88  66.3   45                   0\n",
      "15  NaT                            90  68.7   48                   0\n",
      "16  NaT                            90  71.7   50                   0\n",
      "17  NaT                            91  73.2   55                   0\n",
      "18  NaT                            93  74.1   55                   0\n",
      "19  NaT                            84  68.3   52                   0\n",
      "20  NaT                            73  63.0   52                   0\n",
      "21  NaT                            81  67.8   55                   0\n",
      "22  NaT                            82  70.2   61                   0\n",
      "23  NaT                            86  71.4   57                   0\n",
      "24  NaT                            84  72.2   63                   0\n",
      "25  NaT                            88  71.9   54                   0\n",
      "26  NaT                            88  76.8   66                   0\n",
      "27  NaT                            88  72.3   63                   0\n",
      "28  NaT                            82  68.5   55                   0\n",
      "29  NaT                            75  63.6   54                   0\n",
      "   Date  Temperature (Fahrenheit) MAX   AVG  MIN  Precipitation (in)\n",
      "0   NaT                            81  64.0   48                   0\n",
      "1   NaT                            81  65.3   48                   0\n",
      "2   NaT                            72  63.0   52                   0\n",
      "3   NaT                            82  59.9   39                   0\n",
      "4   NaT                            86  65.7   48                   0\n",
      "5   NaT                            86  73.8   64                   0\n",
      "6   NaT                            73  51.6    0                   0\n",
      "7   NaT                            72  56.3   46                   0\n",
      "8   NaT                            64  49.4   37                   0\n",
      "9   NaT                            70  52.9   34                   0\n",
      "10  NaT                            75  56.9   39                   0\n",
      "11  NaT                            81  63.1   45                   0\n",
      "12  NaT                            82  67.1   57                   0\n",
      "13  NaT                            84  64.6   45                   0\n",
      "14  NaT                            88  66.3   45                   0\n",
      "15  NaT                            90  68.7   48                   0\n",
      "16  NaT                            90  71.7   50                   0\n",
      "17  NaT                            91  73.2   55                   0\n",
      "18  NaT                            93  74.1   55                   0\n",
      "19  NaT                            84  68.3   52                   0\n",
      "20  NaT                            73  63.0   52                   0\n",
      "21  NaT                            81  67.8   55                   0\n",
      "22  NaT                            82  70.2   61                   0\n",
      "23  NaT                            86  71.4   57                   0\n",
      "24  NaT                            84  72.2   63                   0\n",
      "25  NaT                            88  71.9   54                   0\n",
      "26  NaT                            88  76.8   66                   0\n",
      "27  NaT                            88  72.3   63                   0\n",
      "28  NaT                            82  68.5   55                   0\n",
      "29  NaT                            75  63.6   54                   0\n"
     ]
    }
   ],
   "source": [
    "# Inspect the first few rows of the 'Date' column to identify the date format\n",
    "print(data['Date'].head(20))\n",
    "# Convert the 'Date' column to datetime format with a specific format\n",
    "data['Date'] = pd.to_datetime(data['Date'], format='%d/%m/%Y', errors='coerce')\n",
    "\n",
    "# Check for any rows where conversion failed\n",
    "print(data[data['Date'].isna()])\n",
    "# Inspect rows where the conversion failed\n",
    "print(data[data['Date'].isna()])\n",
    "# Set the Date column as the index\n",
    "data.set_index('Date', inplace=True)\n"
   ]
  },
  {
   "cell_type": "code",
   "execution_count": 8,
   "id": "fc0c3485-8e38-4546-b6e2-18e98936ecfe",
   "metadata": {},
   "outputs": [
    {
     "ename": "KeyError",
     "evalue": "'Date'",
     "output_type": "error",
     "traceback": [
      "\u001b[1;31m---------------------------------------------------------------------------\u001b[0m",
      "\u001b[1;31mKeyError\u001b[0m                                  Traceback (most recent call last)",
      "File \u001b[1;32m~\\anaconda3\\Lib\\site-packages\\pandas\\core\\indexes\\base.py:3805\u001b[0m, in \u001b[0;36mIndex.get_loc\u001b[1;34m(self, key)\u001b[0m\n\u001b[0;32m   3804\u001b[0m \u001b[38;5;28;01mtry\u001b[39;00m:\n\u001b[1;32m-> 3805\u001b[0m     \u001b[38;5;28;01mreturn\u001b[39;00m \u001b[38;5;28mself\u001b[39m\u001b[38;5;241m.\u001b[39m_engine\u001b[38;5;241m.\u001b[39mget_loc(casted_key)\n\u001b[0;32m   3806\u001b[0m \u001b[38;5;28;01mexcept\u001b[39;00m \u001b[38;5;167;01mKeyError\u001b[39;00m \u001b[38;5;28;01mas\u001b[39;00m err:\n",
      "File \u001b[1;32mindex.pyx:167\u001b[0m, in \u001b[0;36mpandas._libs.index.IndexEngine.get_loc\u001b[1;34m()\u001b[0m\n",
      "File \u001b[1;32mindex.pyx:196\u001b[0m, in \u001b[0;36mpandas._libs.index.IndexEngine.get_loc\u001b[1;34m()\u001b[0m\n",
      "File \u001b[1;32mpandas\\\\_libs\\\\hashtable_class_helper.pxi:7081\u001b[0m, in \u001b[0;36mpandas._libs.hashtable.PyObjectHashTable.get_item\u001b[1;34m()\u001b[0m\n",
      "File \u001b[1;32mpandas\\\\_libs\\\\hashtable_class_helper.pxi:7089\u001b[0m, in \u001b[0;36mpandas._libs.hashtable.PyObjectHashTable.get_item\u001b[1;34m()\u001b[0m\n",
      "\u001b[1;31mKeyError\u001b[0m: 'Date'",
      "\nThe above exception was the direct cause of the following exception:\n",
      "\u001b[1;31mKeyError\u001b[0m                                  Traceback (most recent call last)",
      "Cell \u001b[1;32mIn[8], line 2\u001b[0m\n\u001b[0;32m      1\u001b[0m \u001b[38;5;66;03m# Convert the 'Date' column to datetime format without specifying the format\u001b[39;00m\n\u001b[1;32m----> 2\u001b[0m data[\u001b[38;5;124m'\u001b[39m\u001b[38;5;124mDate\u001b[39m\u001b[38;5;124m'\u001b[39m] \u001b[38;5;241m=\u001b[39m pd\u001b[38;5;241m.\u001b[39mto_datetime(data[\u001b[38;5;124m'\u001b[39m\u001b[38;5;124mDate\u001b[39m\u001b[38;5;124m'\u001b[39m], errors\u001b[38;5;241m=\u001b[39m\u001b[38;5;124m'\u001b[39m\u001b[38;5;124mcoerce\u001b[39m\u001b[38;5;124m'\u001b[39m)\n\u001b[0;32m      4\u001b[0m \u001b[38;5;66;03m# Check for any rows where conversion failed\u001b[39;00m\n\u001b[0;32m      5\u001b[0m \u001b[38;5;28mprint\u001b[39m(data[data[\u001b[38;5;124m'\u001b[39m\u001b[38;5;124mDate\u001b[39m\u001b[38;5;124m'\u001b[39m]\u001b[38;5;241m.\u001b[39misna()])\n",
      "File \u001b[1;32m~\\anaconda3\\Lib\\site-packages\\pandas\\core\\frame.py:4102\u001b[0m, in \u001b[0;36mDataFrame.__getitem__\u001b[1;34m(self, key)\u001b[0m\n\u001b[0;32m   4100\u001b[0m \u001b[38;5;28;01mif\u001b[39;00m \u001b[38;5;28mself\u001b[39m\u001b[38;5;241m.\u001b[39mcolumns\u001b[38;5;241m.\u001b[39mnlevels \u001b[38;5;241m>\u001b[39m \u001b[38;5;241m1\u001b[39m:\n\u001b[0;32m   4101\u001b[0m     \u001b[38;5;28;01mreturn\u001b[39;00m \u001b[38;5;28mself\u001b[39m\u001b[38;5;241m.\u001b[39m_getitem_multilevel(key)\n\u001b[1;32m-> 4102\u001b[0m indexer \u001b[38;5;241m=\u001b[39m \u001b[38;5;28mself\u001b[39m\u001b[38;5;241m.\u001b[39mcolumns\u001b[38;5;241m.\u001b[39mget_loc(key)\n\u001b[0;32m   4103\u001b[0m \u001b[38;5;28;01mif\u001b[39;00m is_integer(indexer):\n\u001b[0;32m   4104\u001b[0m     indexer \u001b[38;5;241m=\u001b[39m [indexer]\n",
      "File \u001b[1;32m~\\anaconda3\\Lib\\site-packages\\pandas\\core\\indexes\\base.py:3812\u001b[0m, in \u001b[0;36mIndex.get_loc\u001b[1;34m(self, key)\u001b[0m\n\u001b[0;32m   3807\u001b[0m     \u001b[38;5;28;01mif\u001b[39;00m \u001b[38;5;28misinstance\u001b[39m(casted_key, \u001b[38;5;28mslice\u001b[39m) \u001b[38;5;129;01mor\u001b[39;00m (\n\u001b[0;32m   3808\u001b[0m         \u001b[38;5;28misinstance\u001b[39m(casted_key, abc\u001b[38;5;241m.\u001b[39mIterable)\n\u001b[0;32m   3809\u001b[0m         \u001b[38;5;129;01mand\u001b[39;00m \u001b[38;5;28many\u001b[39m(\u001b[38;5;28misinstance\u001b[39m(x, \u001b[38;5;28mslice\u001b[39m) \u001b[38;5;28;01mfor\u001b[39;00m x \u001b[38;5;129;01min\u001b[39;00m casted_key)\n\u001b[0;32m   3810\u001b[0m     ):\n\u001b[0;32m   3811\u001b[0m         \u001b[38;5;28;01mraise\u001b[39;00m InvalidIndexError(key)\n\u001b[1;32m-> 3812\u001b[0m     \u001b[38;5;28;01mraise\u001b[39;00m \u001b[38;5;167;01mKeyError\u001b[39;00m(key) \u001b[38;5;28;01mfrom\u001b[39;00m \u001b[38;5;21;01merr\u001b[39;00m\n\u001b[0;32m   3813\u001b[0m \u001b[38;5;28;01mexcept\u001b[39;00m \u001b[38;5;167;01mTypeError\u001b[39;00m:\n\u001b[0;32m   3814\u001b[0m     \u001b[38;5;66;03m# If we have a listlike key, _check_indexing_error will raise\u001b[39;00m\n\u001b[0;32m   3815\u001b[0m     \u001b[38;5;66;03m#  InvalidIndexError. Otherwise we fall through and re-raise\u001b[39;00m\n\u001b[0;32m   3816\u001b[0m     \u001b[38;5;66;03m#  the TypeError.\u001b[39;00m\n\u001b[0;32m   3817\u001b[0m     \u001b[38;5;28mself\u001b[39m\u001b[38;5;241m.\u001b[39m_check_indexing_error(key)\n",
      "\u001b[1;31mKeyError\u001b[0m: 'Date'"
     ]
    }
   ],
   "source": [
    "# Convert the 'Date' column to datetime format without specifying the format\n",
    "data['Date'] = pd.to_datetime(data['Date'], errors='coerce')\n",
    "\n",
    "# Check for any rows where conversion failed\n",
    "print(data[data['Date'].isna()])\n",
    "# Set the Date column as the index\n",
    "data.set_index('Date', inplace=True)\n"
   ]
  },
  {
   "cell_type": "code",
   "execution_count": 9,
   "id": "97b445f1-58fc-4cda-8a7b-ee990ad502b2",
   "metadata": {},
   "outputs": [
    {
     "name": "stdout",
     "output_type": "stream",
     "text": [
      "Index(['Temperature (Fahrenheit) MAX', 'AVG', 'MIN', 'Precipitation (in)'], dtype='object')\n"
     ]
    }
   ],
   "source": [
    "print(data.columns)"
   ]
  },
  {
   "cell_type": "code",
   "execution_count": 11,
   "id": "8a8115a4-8397-4309-a6af-1ee4beca9aad",
   "metadata": {},
   "outputs": [
    {
     "name": "stdout",
     "output_type": "stream",
     "text": [
      "Index(['Date', 'Temperature (Fahrenheit) MAX', 'AVG', 'MIN',\n",
      "       'Precipitation (in)'],\n",
      "      dtype='object')\n"
     ]
    }
   ],
   "source": [
    "import pandas as pd\n",
    "\n",
    "# Try reading the CSV file with header row specified\n",
    "data = pd.read_csv('C:\\\\Users\\\\Kirsten\\\\Desktop\\\\Weather dataset sep 2018.csv', header=0)  # 0 indicates that the first row is the header\n",
    "print(data.columns)  # Check if 'Date' appears in the column names\n"
   ]
  },
  {
   "cell_type": "code",
   "execution_count": 12,
   "id": "eacf5990-18df-4630-b990-96a0893e0306",
   "metadata": {},
   "outputs": [
    {
     "name": "stdout",
     "output_type": "stream",
     "text": [
      "['ï»¿Date,Temperature (Fahrenheit) MAX,AVG,MIN,Precipitation (in)\\n', '01/09/2018,81,64,48,0\\n', '02/09/2018,81,65.3,48,0\\n', '03/09/2018,72,63,52,0\\n', '04/09/2018,82,59.9,39,0\\n', '05/09/2018,86,65.7,48,0\\n', '06/09/2018,86,73.8,64,0\\n', '07/09/2018,73,51.6,0,0\\n', '08/09/2018,72,56.3,46,0\\n', '09/09/2018,64,49.4,37,0\\n']\n"
     ]
    }
   ],
   "source": [
    "# Show first few lines of the CSV to inspect how it is being read\n",
    "with open('C:\\\\Users\\\\Kirsten\\\\Desktop\\\\Weather dataset sep 2018.csv', 'r') as file:\n",
    "    print(file.readlines()[:10])  # Print the first 10 lines"
   ]
  },
  {
   "cell_type": "code",
   "execution_count": 15,
   "id": "59e57761-a7f0-4908-a207-976c1436e893",
   "metadata": {},
   "outputs": [
    {
     "ename": "KeyError",
     "evalue": "'Date'",
     "output_type": "error",
     "traceback": [
      "\u001b[1;31m---------------------------------------------------------------------------\u001b[0m",
      "\u001b[1;31mKeyError\u001b[0m                                  Traceback (most recent call last)",
      "File \u001b[1;32m~\\anaconda3\\Lib\\site-packages\\pandas\\core\\indexes\\base.py:3805\u001b[0m, in \u001b[0;36mIndex.get_loc\u001b[1;34m(self, key)\u001b[0m\n\u001b[0;32m   3804\u001b[0m \u001b[38;5;28;01mtry\u001b[39;00m:\n\u001b[1;32m-> 3805\u001b[0m     \u001b[38;5;28;01mreturn\u001b[39;00m \u001b[38;5;28mself\u001b[39m\u001b[38;5;241m.\u001b[39m_engine\u001b[38;5;241m.\u001b[39mget_loc(casted_key)\n\u001b[0;32m   3806\u001b[0m \u001b[38;5;28;01mexcept\u001b[39;00m \u001b[38;5;167;01mKeyError\u001b[39;00m \u001b[38;5;28;01mas\u001b[39;00m err:\n",
      "File \u001b[1;32mindex.pyx:167\u001b[0m, in \u001b[0;36mpandas._libs.index.IndexEngine.get_loc\u001b[1;34m()\u001b[0m\n",
      "File \u001b[1;32mindex.pyx:196\u001b[0m, in \u001b[0;36mpandas._libs.index.IndexEngine.get_loc\u001b[1;34m()\u001b[0m\n",
      "File \u001b[1;32mpandas\\\\_libs\\\\hashtable_class_helper.pxi:7081\u001b[0m, in \u001b[0;36mpandas._libs.hashtable.PyObjectHashTable.get_item\u001b[1;34m()\u001b[0m\n",
      "File \u001b[1;32mpandas\\\\_libs\\\\hashtable_class_helper.pxi:7089\u001b[0m, in \u001b[0;36mpandas._libs.hashtable.PyObjectHashTable.get_item\u001b[1;34m()\u001b[0m\n",
      "\u001b[1;31mKeyError\u001b[0m: 'Date'",
      "\nThe above exception was the direct cause of the following exception:\n",
      "\u001b[1;31mKeyError\u001b[0m                                  Traceback (most recent call last)",
      "Cell \u001b[1;32mIn[15], line 1\u001b[0m\n\u001b[1;32m----> 1\u001b[0m data[\u001b[38;5;124m'\u001b[39m\u001b[38;5;124mDate\u001b[39m\u001b[38;5;124m'\u001b[39m] \u001b[38;5;241m=\u001b[39m pd\u001b[38;5;241m.\u001b[39mto_datetime(data[\u001b[38;5;124m'\u001b[39m\u001b[38;5;124mDate\u001b[39m\u001b[38;5;124m'\u001b[39m], errors\u001b[38;5;241m=\u001b[39m\u001b[38;5;124m'\u001b[39m\u001b[38;5;124mcoerce\u001b[39m\u001b[38;5;124m'\u001b[39m)  \u001b[38;5;66;03m# Convert to datetime format\u001b[39;00m\n\u001b[0;32m      2\u001b[0m data\u001b[38;5;241m.\u001b[39mset_index(\u001b[38;5;124m'\u001b[39m\u001b[38;5;124mDate\u001b[39m\u001b[38;5;124m'\u001b[39m, inplace\u001b[38;5;241m=\u001b[39m\u001b[38;5;28;01mTrue\u001b[39;00m)\n\u001b[0;32m      3\u001b[0m \u001b[38;5;28mprint\u001b[39m(data\u001b[38;5;241m.\u001b[39mhead())\n",
      "File \u001b[1;32m~\\anaconda3\\Lib\\site-packages\\pandas\\core\\frame.py:4102\u001b[0m, in \u001b[0;36mDataFrame.__getitem__\u001b[1;34m(self, key)\u001b[0m\n\u001b[0;32m   4100\u001b[0m \u001b[38;5;28;01mif\u001b[39;00m \u001b[38;5;28mself\u001b[39m\u001b[38;5;241m.\u001b[39mcolumns\u001b[38;5;241m.\u001b[39mnlevels \u001b[38;5;241m>\u001b[39m \u001b[38;5;241m1\u001b[39m:\n\u001b[0;32m   4101\u001b[0m     \u001b[38;5;28;01mreturn\u001b[39;00m \u001b[38;5;28mself\u001b[39m\u001b[38;5;241m.\u001b[39m_getitem_multilevel(key)\n\u001b[1;32m-> 4102\u001b[0m indexer \u001b[38;5;241m=\u001b[39m \u001b[38;5;28mself\u001b[39m\u001b[38;5;241m.\u001b[39mcolumns\u001b[38;5;241m.\u001b[39mget_loc(key)\n\u001b[0;32m   4103\u001b[0m \u001b[38;5;28;01mif\u001b[39;00m is_integer(indexer):\n\u001b[0;32m   4104\u001b[0m     indexer \u001b[38;5;241m=\u001b[39m [indexer]\n",
      "File \u001b[1;32m~\\anaconda3\\Lib\\site-packages\\pandas\\core\\indexes\\base.py:3812\u001b[0m, in \u001b[0;36mIndex.get_loc\u001b[1;34m(self, key)\u001b[0m\n\u001b[0;32m   3807\u001b[0m     \u001b[38;5;28;01mif\u001b[39;00m \u001b[38;5;28misinstance\u001b[39m(casted_key, \u001b[38;5;28mslice\u001b[39m) \u001b[38;5;129;01mor\u001b[39;00m (\n\u001b[0;32m   3808\u001b[0m         \u001b[38;5;28misinstance\u001b[39m(casted_key, abc\u001b[38;5;241m.\u001b[39mIterable)\n\u001b[0;32m   3809\u001b[0m         \u001b[38;5;129;01mand\u001b[39;00m \u001b[38;5;28many\u001b[39m(\u001b[38;5;28misinstance\u001b[39m(x, \u001b[38;5;28mslice\u001b[39m) \u001b[38;5;28;01mfor\u001b[39;00m x \u001b[38;5;129;01min\u001b[39;00m casted_key)\n\u001b[0;32m   3810\u001b[0m     ):\n\u001b[0;32m   3811\u001b[0m         \u001b[38;5;28;01mraise\u001b[39;00m InvalidIndexError(key)\n\u001b[1;32m-> 3812\u001b[0m     \u001b[38;5;28;01mraise\u001b[39;00m \u001b[38;5;167;01mKeyError\u001b[39;00m(key) \u001b[38;5;28;01mfrom\u001b[39;00m \u001b[38;5;21;01merr\u001b[39;00m\n\u001b[0;32m   3813\u001b[0m \u001b[38;5;28;01mexcept\u001b[39;00m \u001b[38;5;167;01mTypeError\u001b[39;00m:\n\u001b[0;32m   3814\u001b[0m     \u001b[38;5;66;03m# If we have a listlike key, _check_indexing_error will raise\u001b[39;00m\n\u001b[0;32m   3815\u001b[0m     \u001b[38;5;66;03m#  InvalidIndexError. Otherwise we fall through and re-raise\u001b[39;00m\n\u001b[0;32m   3816\u001b[0m     \u001b[38;5;66;03m#  the TypeError.\u001b[39;00m\n\u001b[0;32m   3817\u001b[0m     \u001b[38;5;28mself\u001b[39m\u001b[38;5;241m.\u001b[39m_check_indexing_error(key)\n",
      "\u001b[1;31mKeyError\u001b[0m: 'Date'"
     ]
    }
   ],
   "source": [
    "data['Date'] = pd.to_datetime(data['Date'], errors='coerce')  # Convert to datetime format\n",
    "data.set_index('Date', inplace=True)\n",
    "print(data.head())  # View the first few rows of the data"
   ]
  },
  {
   "cell_type": "code",
   "execution_count": 16,
   "id": "f4873b8d-ffaa-45d3-bb0e-948a8768e36d",
   "metadata": {},
   "outputs": [
    {
     "name": "stdout",
     "output_type": "stream",
     "text": [
      "Index(['Temperature (Fahrenheit) MAX', 'AVG', 'MIN', 'Precipitation (in)'], dtype='object')\n"
     ]
    }
   ],
   "source": [
    "print(data.columns)\n"
   ]
  },
  {
   "cell_type": "code",
   "execution_count": 17,
   "id": "2e41c1bb-4ae9-46aa-92d4-3ec5c8801bd3",
   "metadata": {},
   "outputs": [
    {
     "name": "stdout",
     "output_type": "stream",
     "text": [
      "Index(['Date', 'Temperature (Fahrenheit) MAX', 'AVG', 'MIN',\n",
      "       'Precipitation (in)'],\n",
      "      dtype='object')\n"
     ]
    }
   ],
   "source": [
    "import pandas as pd\n",
    "\n",
    "# Try reading the CSV file with header row specified\n",
    "data = pd.read_csv('C:\\\\Users\\\\Kirsten\\\\Desktop\\\\Weather dataset sep 2018.csv', header=0)  # 0 indicates that the first row is the header\n",
    "print(data.columns)  # Check if 'Date' appears in the column names"
   ]
  },
  {
   "cell_type": "code",
   "execution_count": 18,
   "id": "2085b705-e34b-4679-ba58-8846ba3cc56f",
   "metadata": {},
   "outputs": [
    {
     "name": "stdout",
     "output_type": "stream",
     "text": [
      "Index(['Date', 'Temperature (Fahrenheit) MAX', 'AVG', 'MIN',\n",
      "       'Precipitation (in)'],\n",
      "      dtype='object')\n"
     ]
    }
   ],
   "source": [
    "print(data.columns)\n"
   ]
  },
  {
   "cell_type": "code",
   "execution_count": 19,
   "id": "c9632adf-f37f-401e-a0c9-845b4da538dc",
   "metadata": {},
   "outputs": [],
   "source": [
    "data.set_index('Date', inplace=True)"
   ]
  },
  {
   "cell_type": "code",
   "execution_count": 20,
   "id": "5ae4767c-9d80-416b-bf12-c945239ef753",
   "metadata": {},
   "outputs": [
    {
     "name": "stdout",
     "output_type": "stream",
     "text": [
      "            Temperature (Fahrenheit) MAX   AVG  MIN  Precipitation (in)\n",
      "Date                                                                   \n",
      "01/09/2018                            81  64.0   48                   0\n",
      "02/09/2018                            81  65.3   48                   0\n",
      "03/09/2018                            72  63.0   52                   0\n",
      "04/09/2018                            82  59.9   39                   0\n",
      "05/09/2018                            86  65.7   48                   0\n"
     ]
    }
   ],
   "source": [
    "print(data.head())"
   ]
  },
  {
   "cell_type": "code",
   "execution_count": 21,
   "id": "a17c683f-e251-449a-b874-e281a91dd10d",
   "metadata": {},
   "outputs": [
    {
     "name": "stdout",
     "output_type": "stream",
     "text": [
      "ADF Statistic: -2.4666363306946724\n",
      "p-value: 0.12380450493451145\n"
     ]
    }
   ],
   "source": [
    "from statsmodels.tsa.stattools import adfuller\n",
    "\n",
    "# Perform the ADF test on the temperature (or any other column you're forecasting)\n",
    "result = adfuller(data['Temperature (Fahrenheit) MAX'])\n",
    "\n",
    "print(f\"ADF Statistic: {result[0]}\")\n",
    "print(f\"p-value: {result[1]}\")\n"
   ]
  },
  {
   "cell_type": "code",
   "execution_count": 22,
   "id": "20450dc2-1948-4c19-a5a0-a2d0f8c6806e",
   "metadata": {},
   "outputs": [
    {
     "name": "stdout",
     "output_type": "stream",
     "text": [
      "ADF Statistic: -4.7502644188286025\n",
      "p-value: 6.764049076123275e-05\n"
     ]
    }
   ],
   "source": [
    "# Take the first difference if the series is non-stationary\n",
    "data['Temperature_diff'] = data['Temperature (Fahrenheit) MAX'].diff()\n",
    "data.dropna(inplace=True)\n",
    "\n",
    "# Check if the series is now stationary\n",
    "result = adfuller(data['Temperature_diff'])\n",
    "print(f\"ADF Statistic: {result[0]}\")\n",
    "print(f\"p-value: {result[1]}\")"
   ]
  },
  {
   "cell_type": "code",
   "execution_count": 23,
   "id": "60f59e44-2da3-4169-9c71-2071b09d1b96",
   "metadata": {},
   "outputs": [
    {
     "data": {
      "image/png": "[encoded data removed]",
      "text/plain": [
       "<Figure size 640x480 with 1 Axes>"
      ]
     },
     "metadata": {},
     "output_type": "display_data"
    },
    {
     "data": {
      "image/png": "[encoded data removed]",
      "text/plain": [
       "<Figure size 640x480 with 1 Axes>"
      ]
     },
     "metadata": {},
     "output_type": "display_data"
    }
   ],
   "source": [
    "plot_acf(data['Temperature_diff'])\n",
    "plot_pacf(data['Temperature_diff'])\n",
    "plt.show()"
   ]
  },
  {
   "cell_type": "code",
   "execution_count": 24,
   "id": "07d9e32a-fd3b-46f0-ab4b-aa499e84869d",
   "metadata": {},
   "outputs": [
    {
     "name": "stderr",
     "output_type": "stream",
     "text": [
      "C:\\Users\\Kirsten\\anaconda3\\Lib\\site-packages\\statsmodels\\tsa\\base\\tsa_model.py:473: ValueWarning: An unsupported index was provided and will be ignored when e.g. forecasting.\n",
      "  self._init_dates(dates, freq)\n",
      "C:\\Users\\Kirsten\\anaconda3\\Lib\\site-packages\\statsmodels\\tsa\\base\\tsa_model.py:473: ValueWarning: An unsupported index was provided and will be ignored when e.g. forecasting.\n",
      "  self._init_dates(dates, freq)\n",
      "C:\\Users\\Kirsten\\anaconda3\\Lib\\site-packages\\statsmodels\\tsa\\base\\tsa_model.py:473: ValueWarning: An unsupported index was provided and will be ignored when e.g. forecasting.\n",
      "  self._init_dates(dates, freq)\n"
     ]
    },
    {
     "name": "stdout",
     "output_type": "stream",
     "text": [
      "                                    SARIMAX Results                                     \n",
      "========================================================================================\n",
      "Dep. Variable:     Temperature (Fahrenheit) MAX   No. Observations:                   29\n",
      "Model:                           ARIMA(1, 1, 1)   Log Likelihood                 -87.597\n",
      "Date:                          Sun, 23 Mar 2025   AIC                            181.193\n",
      "Time:                                  19:31:02   BIC                            185.190\n",
      "Sample:                                       0   HQIC                           182.415\n",
      "                                           - 29                                         \n",
      "Covariance Type:                            opg                                         \n",
      "==============================================================================\n",
      "                 coef    std err          z      P>|z|      [0.025      0.975]\n",
      "------------------------------------------------------------------------------\n",
      "ar.L1          0.7175      0.255      2.811      0.005       0.217       1.218\n",
      "ma.L1         -0.9998     72.371     -0.014      0.989    -142.845     140.845\n",
      "sigma2        28.7216   2077.152      0.014      0.989   -4042.422    4099.865\n",
      "===================================================================================\n",
      "Ljung-Box (L1) (Q):                   0.49   Jarque-Bera (JB):                 3.74\n",
      "Prob(Q):                              0.48   Prob(JB):                         0.15\n",
      "Heteroskedasticity (H):               0.37   Skew:                            -0.86\n",
      "Prob(H) (two-sided):                  0.16   Kurtosis:                         2.50\n",
      "===================================================================================\n",
      "\n",
      "Warnings:\n",
      "[1] Covariance matrix calculated using the outer product of gradients (complex-step).\n"
     ]
    }
   ],
   "source": [
    "# Define the ARIMA model\n",
    "# For example, let's use ARIMA(1, 1, 1) based on ACF and PACF plots\n",
    "model = ARIMA(data['Temperature (Fahrenheit) MAX'], order=(1, 1, 1))\n",
    "\n",
    "# Fit the model\n",
    "model_fit = model.fit()\n",
    "\n",
    "# Print the model summary\n",
    "print(model_fit.summary())\n"
   ]
  },
  {
   "cell_type": "code",
   "execution_count": 25,
   "id": "4ff2adff-04f6-4eaf-8275-27e23e64b094",
   "metadata": {},
   "outputs": [
    {
     "name": "stderr",
     "output_type": "stream",
     "text": [
      "C:\\Users\\Kirsten\\anaconda3\\Lib\\site-packages\\statsmodels\\tsa\\base\\tsa_model.py:836: ValueWarning: No supported index is available. Prediction results will be given with an integer index beginning at `start`.\n",
      "  return get_prediction_index(\n",
      "C:\\Users\\Kirsten\\anaconda3\\Lib\\site-packages\\statsmodels\\tsa\\base\\tsa_model.py:836: FutureWarning: No supported index is available. In the next version, calling this method in a model without a supported index will result in an exception.\n",
      "  return get_prediction_index(\n"
     ]
    },
    {
     "ename": "TypeError",
     "evalue": "tz must be string or tzinfo subclass, not <matplotlib.category.UnitData object at 0x0000017E9C157200>.",
     "output_type": "error",
     "traceback": [
      "\u001b[1;31m---------------------------------------------------------------------------\u001b[0m",
      "\u001b[1;31mTypeError\u001b[0m                                 Traceback (most recent call last)",
      "Cell \u001b[1;32mIn[25], line 8\u001b[0m\n\u001b[0;32m      6\u001b[0m plt\u001b[38;5;241m.\u001b[39mfigure(figsize\u001b[38;5;241m=\u001b[39m(\u001b[38;5;241m10\u001b[39m, \u001b[38;5;241m6\u001b[39m))\n\u001b[0;32m      7\u001b[0m plt\u001b[38;5;241m.\u001b[39mplot(data\u001b[38;5;241m.\u001b[39mindex, data[\u001b[38;5;124m'\u001b[39m\u001b[38;5;124mTemperature (Fahrenheit) MAX\u001b[39m\u001b[38;5;124m'\u001b[39m], label\u001b[38;5;241m=\u001b[39m\u001b[38;5;124m'\u001b[39m\u001b[38;5;124mObserved\u001b[39m\u001b[38;5;124m'\u001b[39m, color\u001b[38;5;241m=\u001b[39m\u001b[38;5;124m'\u001b[39m\u001b[38;5;124mblue\u001b[39m\u001b[38;5;124m'\u001b[39m)\n\u001b[1;32m----> 8\u001b[0m plt\u001b[38;5;241m.\u001b[39mplot(pd\u001b[38;5;241m.\u001b[39mdate_range(data\u001b[38;5;241m.\u001b[39mindex[\u001b[38;5;241m-\u001b[39m\u001b[38;5;241m1\u001b[39m], periods\u001b[38;5;241m=\u001b[39mforecast_steps\u001b[38;5;241m+\u001b[39m\u001b[38;5;241m1\u001b[39m, freq\u001b[38;5;241m=\u001b[39m\u001b[38;5;124m'\u001b[39m\u001b[38;5;124mD\u001b[39m\u001b[38;5;124m'\u001b[39m)[\u001b[38;5;241m1\u001b[39m:], forecast, label\u001b[38;5;241m=\u001b[39m\u001b[38;5;124m'\u001b[39m\u001b[38;5;124mForecast\u001b[39m\u001b[38;5;124m'\u001b[39m, color\u001b[38;5;241m=\u001b[39m\u001b[38;5;124m'\u001b[39m\u001b[38;5;124mred\u001b[39m\u001b[38;5;124m'\u001b[39m)\n\u001b[0;32m      9\u001b[0m plt\u001b[38;5;241m.\u001b[39mtitle(\u001b[38;5;124m'\u001b[39m\u001b[38;5;124mTemperature Forecast\u001b[39m\u001b[38;5;124m'\u001b[39m)\n\u001b[0;32m     10\u001b[0m plt\u001b[38;5;241m.\u001b[39mxlabel(\u001b[38;5;124m'\u001b[39m\u001b[38;5;124mDate\u001b[39m\u001b[38;5;124m'\u001b[39m)\n",
      "File \u001b[1;32m~\\anaconda3\\Lib\\site-packages\\matplotlib\\pyplot.py:3794\u001b[0m, in \u001b[0;36mplot\u001b[1;34m(scalex, scaley, data, *args, **kwargs)\u001b[0m\n\u001b[0;32m   3786\u001b[0m \u001b[38;5;129m@_copy_docstring_and_deprecators\u001b[39m(Axes\u001b[38;5;241m.\u001b[39mplot)\n\u001b[0;32m   3787\u001b[0m \u001b[38;5;28;01mdef\u001b[39;00m \u001b[38;5;21mplot\u001b[39m(\n\u001b[0;32m   3788\u001b[0m     \u001b[38;5;241m*\u001b[39margs: \u001b[38;5;28mfloat\u001b[39m \u001b[38;5;241m|\u001b[39m ArrayLike \u001b[38;5;241m|\u001b[39m \u001b[38;5;28mstr\u001b[39m,\n\u001b[1;32m   (...)\u001b[0m\n\u001b[0;32m   3792\u001b[0m     \u001b[38;5;241m*\u001b[39m\u001b[38;5;241m*\u001b[39mkwargs,\n\u001b[0;32m   3793\u001b[0m ) \u001b[38;5;241m-\u001b[39m\u001b[38;5;241m>\u001b[39m \u001b[38;5;28mlist\u001b[39m[Line2D]:\n\u001b[1;32m-> 3794\u001b[0m     \u001b[38;5;28;01mreturn\u001b[39;00m gca()\u001b[38;5;241m.\u001b[39mplot(\n\u001b[0;32m   3795\u001b[0m         \u001b[38;5;241m*\u001b[39margs,\n\u001b[0;32m   3796\u001b[0m         scalex\u001b[38;5;241m=\u001b[39mscalex,\n\u001b[0;32m   3797\u001b[0m         scaley\u001b[38;5;241m=\u001b[39mscaley,\n\u001b[0;32m   3798\u001b[0m         \u001b[38;5;241m*\u001b[39m\u001b[38;5;241m*\u001b[39m({\u001b[38;5;124m\"\u001b[39m\u001b[38;5;124mdata\u001b[39m\u001b[38;5;124m\"\u001b[39m: data} \u001b[38;5;28;01mif\u001b[39;00m data \u001b[38;5;129;01mis\u001b[39;00m \u001b[38;5;129;01mnot\u001b[39;00m \u001b[38;5;28;01mNone\u001b[39;00m \u001b[38;5;28;01melse\u001b[39;00m {}),\n\u001b[0;32m   3799\u001b[0m         \u001b[38;5;241m*\u001b[39m\u001b[38;5;241m*\u001b[39mkwargs,\n\u001b[0;32m   3800\u001b[0m     )\n",
      "File \u001b[1;32m~\\anaconda3\\Lib\\site-packages\\matplotlib\\axes\\_axes.py:1779\u001b[0m, in \u001b[0;36mAxes.plot\u001b[1;34m(self, scalex, scaley, data, *args, **kwargs)\u001b[0m\n\u001b[0;32m   1536\u001b[0m \u001b[38;5;250m\u001b[39m\u001b[38;5;124;03m\"\"\"\u001b[39;00m\n\u001b[0;32m   1537\u001b[0m \u001b[38;5;124;03mPlot y versus x as lines and/or markers.\u001b[39;00m\n\u001b[0;32m   1538\u001b[0m \n\u001b[1;32m   (...)\u001b[0m\n\u001b[0;32m   1776\u001b[0m \u001b[38;5;124;03m(``'green'``) or hex strings (``'#008000'``).\u001b[39;00m\n\u001b[0;32m   1777\u001b[0m \u001b[38;5;124;03m\"\"\"\u001b[39;00m\n\u001b[0;32m   1778\u001b[0m kwargs \u001b[38;5;241m=\u001b[39m cbook\u001b[38;5;241m.\u001b[39mnormalize_kwargs(kwargs, mlines\u001b[38;5;241m.\u001b[39mLine2D)\n\u001b[1;32m-> 1779\u001b[0m lines \u001b[38;5;241m=\u001b[39m [\u001b[38;5;241m*\u001b[39m\u001b[38;5;28mself\u001b[39m\u001b[38;5;241m.\u001b[39m_get_lines(\u001b[38;5;28mself\u001b[39m, \u001b[38;5;241m*\u001b[39margs, data\u001b[38;5;241m=\u001b[39mdata, \u001b[38;5;241m*\u001b[39m\u001b[38;5;241m*\u001b[39mkwargs)]\n\u001b[0;32m   1780\u001b[0m \u001b[38;5;28;01mfor\u001b[39;00m line \u001b[38;5;129;01min\u001b[39;00m lines:\n\u001b[0;32m   1781\u001b[0m     \u001b[38;5;28mself\u001b[39m\u001b[38;5;241m.\u001b[39madd_line(line)\n",
      "File \u001b[1;32m~\\anaconda3\\Lib\\site-packages\\matplotlib\\axes\\_base.py:296\u001b[0m, in \u001b[0;36m_process_plot_var_args.__call__\u001b[1;34m(self, axes, data, *args, **kwargs)\u001b[0m\n\u001b[0;32m    294\u001b[0m     this \u001b[38;5;241m+\u001b[39m\u001b[38;5;241m=\u001b[39m args[\u001b[38;5;241m0\u001b[39m],\n\u001b[0;32m    295\u001b[0m     args \u001b[38;5;241m=\u001b[39m args[\u001b[38;5;241m1\u001b[39m:]\n\u001b[1;32m--> 296\u001b[0m \u001b[38;5;28;01myield from\u001b[39;00m \u001b[38;5;28mself\u001b[39m\u001b[38;5;241m.\u001b[39m_plot_args(\n\u001b[0;32m    297\u001b[0m     axes, this, kwargs, ambiguous_fmt_datakey\u001b[38;5;241m=\u001b[39mambiguous_fmt_datakey)\n",
      "File \u001b[1;32m~\\anaconda3\\Lib\\site-packages\\matplotlib\\axes\\_base.py:481\u001b[0m, in \u001b[0;36m_process_plot_var_args._plot_args\u001b[1;34m(self, axes, tup, kwargs, return_kwargs, ambiguous_fmt_datakey)\u001b[0m\n\u001b[0;32m    478\u001b[0m     x, y \u001b[38;5;241m=\u001b[39m index_of(xy[\u001b[38;5;241m-\u001b[39m\u001b[38;5;241m1\u001b[39m])\n\u001b[0;32m    480\u001b[0m \u001b[38;5;28;01mif\u001b[39;00m axes\u001b[38;5;241m.\u001b[39mxaxis \u001b[38;5;129;01mis\u001b[39;00m \u001b[38;5;129;01mnot\u001b[39;00m \u001b[38;5;28;01mNone\u001b[39;00m:\n\u001b[1;32m--> 481\u001b[0m     axes\u001b[38;5;241m.\u001b[39mxaxis\u001b[38;5;241m.\u001b[39mupdate_units(x)\n\u001b[0;32m    482\u001b[0m \u001b[38;5;28;01mif\u001b[39;00m axes\u001b[38;5;241m.\u001b[39myaxis \u001b[38;5;129;01mis\u001b[39;00m \u001b[38;5;129;01mnot\u001b[39;00m \u001b[38;5;28;01mNone\u001b[39;00m:\n\u001b[0;32m    483\u001b[0m     axes\u001b[38;5;241m.\u001b[39myaxis\u001b[38;5;241m.\u001b[39mupdate_units(y)\n",
      "File \u001b[1;32m~\\anaconda3\\Lib\\site-packages\\matplotlib\\axis.py:1761\u001b[0m, in \u001b[0;36mAxis.update_units\u001b[1;34m(self, data)\u001b[0m\n\u001b[0;32m   1758\u001b[0m     \u001b[38;5;28mself\u001b[39m\u001b[38;5;241m.\u001b[39mset_units(default)\n\u001b[0;32m   1760\u001b[0m \u001b[38;5;28;01melif\u001b[39;00m neednew:\n\u001b[1;32m-> 1761\u001b[0m     \u001b[38;5;28mself\u001b[39m\u001b[38;5;241m.\u001b[39m_update_axisinfo()\n\u001b[0;32m   1762\u001b[0m \u001b[38;5;28mself\u001b[39m\u001b[38;5;241m.\u001b[39mstale \u001b[38;5;241m=\u001b[39m \u001b[38;5;28;01mTrue\u001b[39;00m\n\u001b[0;32m   1763\u001b[0m \u001b[38;5;28;01mreturn\u001b[39;00m \u001b[38;5;28;01mTrue\u001b[39;00m\n",
      "File \u001b[1;32m~\\anaconda3\\Lib\\site-packages\\matplotlib\\axis.py:1773\u001b[0m, in \u001b[0;36mAxis._update_axisinfo\u001b[1;34m(self)\u001b[0m\n\u001b[0;32m   1770\u001b[0m \u001b[38;5;28;01mif\u001b[39;00m \u001b[38;5;28mself\u001b[39m\u001b[38;5;241m.\u001b[39mconverter \u001b[38;5;129;01mis\u001b[39;00m \u001b[38;5;28;01mNone\u001b[39;00m:\n\u001b[0;32m   1771\u001b[0m     \u001b[38;5;28;01mreturn\u001b[39;00m\n\u001b[1;32m-> 1773\u001b[0m info \u001b[38;5;241m=\u001b[39m \u001b[38;5;28mself\u001b[39m\u001b[38;5;241m.\u001b[39mconverter\u001b[38;5;241m.\u001b[39maxisinfo(\u001b[38;5;28mself\u001b[39m\u001b[38;5;241m.\u001b[39munits, \u001b[38;5;28mself\u001b[39m)\n\u001b[0;32m   1775\u001b[0m \u001b[38;5;28;01mif\u001b[39;00m info \u001b[38;5;129;01mis\u001b[39;00m \u001b[38;5;28;01mNone\u001b[39;00m:\n\u001b[0;32m   1776\u001b[0m     \u001b[38;5;28;01mreturn\u001b[39;00m\n",
      "File \u001b[1;32m~\\anaconda3\\Lib\\site-packages\\matplotlib\\dates.py:1823\u001b[0m, in \u001b[0;36m_SwitchableDateConverter.axisinfo\u001b[1;34m(self, *args, **kwargs)\u001b[0m\n\u001b[0;32m   1822\u001b[0m \u001b[38;5;28;01mdef\u001b[39;00m \u001b[38;5;21maxisinfo\u001b[39m(\u001b[38;5;28mself\u001b[39m, \u001b[38;5;241m*\u001b[39margs, \u001b[38;5;241m*\u001b[39m\u001b[38;5;241m*\u001b[39mkwargs):\n\u001b[1;32m-> 1823\u001b[0m     \u001b[38;5;28;01mreturn\u001b[39;00m \u001b[38;5;28mself\u001b[39m\u001b[38;5;241m.\u001b[39m_get_converter()\u001b[38;5;241m.\u001b[39maxisinfo(\u001b[38;5;241m*\u001b[39margs, \u001b[38;5;241m*\u001b[39m\u001b[38;5;241m*\u001b[39mkwargs)\n",
      "File \u001b[1;32m~\\anaconda3\\Lib\\site-packages\\matplotlib\\dates.py:1740\u001b[0m, in \u001b[0;36mDateConverter.axisinfo\u001b[1;34m(self, unit, axis)\u001b[0m\n\u001b[0;32m   1732\u001b[0m \u001b[38;5;250m\u001b[39m\u001b[38;5;124;03m\"\"\"\u001b[39;00m\n\u001b[0;32m   1733\u001b[0m \u001b[38;5;124;03mReturn the `~matplotlib.units.AxisInfo` for *unit*.\u001b[39;00m\n\u001b[0;32m   1734\u001b[0m \n\u001b[0;32m   1735\u001b[0m \u001b[38;5;124;03m*unit* is a `~datetime.tzinfo` instance or None.\u001b[39;00m\n\u001b[0;32m   1736\u001b[0m \u001b[38;5;124;03mThe *axis* argument is required but not used.\u001b[39;00m\n\u001b[0;32m   1737\u001b[0m \u001b[38;5;124;03m\"\"\"\u001b[39;00m\n\u001b[0;32m   1738\u001b[0m tz \u001b[38;5;241m=\u001b[39m unit\n\u001b[1;32m-> 1740\u001b[0m majloc \u001b[38;5;241m=\u001b[39m AutoDateLocator(tz\u001b[38;5;241m=\u001b[39mtz,\n\u001b[0;32m   1741\u001b[0m                          interval_multiples\u001b[38;5;241m=\u001b[39m\u001b[38;5;28mself\u001b[39m\u001b[38;5;241m.\u001b[39m_interval_multiples)\n\u001b[0;32m   1742\u001b[0m majfmt \u001b[38;5;241m=\u001b[39m AutoDateFormatter(majloc, tz\u001b[38;5;241m=\u001b[39mtz)\n\u001b[0;32m   1743\u001b[0m datemin \u001b[38;5;241m=\u001b[39m datetime\u001b[38;5;241m.\u001b[39mdate(\u001b[38;5;241m1970\u001b[39m, \u001b[38;5;241m1\u001b[39m, \u001b[38;5;241m1\u001b[39m)\n",
      "File \u001b[1;32m~\\anaconda3\\Lib\\site-packages\\matplotlib\\dates.py:1274\u001b[0m, in \u001b[0;36mAutoDateLocator.__init__\u001b[1;34m(self, tz, minticks, maxticks, interval_multiples)\u001b[0m\n\u001b[0;32m   1249\u001b[0m \u001b[38;5;28;01mdef\u001b[39;00m \u001b[38;5;21m__init__\u001b[39m(\u001b[38;5;28mself\u001b[39m, tz\u001b[38;5;241m=\u001b[39m\u001b[38;5;28;01mNone\u001b[39;00m, minticks\u001b[38;5;241m=\u001b[39m\u001b[38;5;241m5\u001b[39m, maxticks\u001b[38;5;241m=\u001b[39m\u001b[38;5;28;01mNone\u001b[39;00m,\n\u001b[0;32m   1250\u001b[0m              interval_multiples\u001b[38;5;241m=\u001b[39m\u001b[38;5;28;01mTrue\u001b[39;00m):\n\u001b[0;32m   1251\u001b[0m \u001b[38;5;250m    \u001b[39m\u001b[38;5;124;03m\"\"\"\u001b[39;00m\n\u001b[0;32m   1252\u001b[0m \u001b[38;5;124;03m    Parameters\u001b[39;00m\n\u001b[0;32m   1253\u001b[0m \u001b[38;5;124;03m    ----------\u001b[39;00m\n\u001b[1;32m   (...)\u001b[0m\n\u001b[0;32m   1272\u001b[0m \u001b[38;5;124;03m        at 6 hour intervals.\u001b[39;00m\n\u001b[0;32m   1273\u001b[0m \u001b[38;5;124;03m    \"\"\"\u001b[39;00m\n\u001b[1;32m-> 1274\u001b[0m     \u001b[38;5;28msuper\u001b[39m()\u001b[38;5;241m.\u001b[39m\u001b[38;5;21m__init__\u001b[39m(tz\u001b[38;5;241m=\u001b[39mtz)\n\u001b[0;32m   1275\u001b[0m     \u001b[38;5;28mself\u001b[39m\u001b[38;5;241m.\u001b[39m_freq \u001b[38;5;241m=\u001b[39m YEARLY\n\u001b[0;32m   1276\u001b[0m     \u001b[38;5;28mself\u001b[39m\u001b[38;5;241m.\u001b[39m_freqs \u001b[38;5;241m=\u001b[39m [YEARLY, MONTHLY, DAILY, HOURLY, MINUTELY,\n\u001b[0;32m   1277\u001b[0m                    SECONDLY, MICROSECONDLY]\n",
      "File \u001b[1;32m~\\anaconda3\\Lib\\site-packages\\matplotlib\\dates.py:1073\u001b[0m, in \u001b[0;36mDateLocator.__init__\u001b[1;34m(self, tz)\u001b[0m\n\u001b[0;32m   1066\u001b[0m \u001b[38;5;28;01mdef\u001b[39;00m \u001b[38;5;21m__init__\u001b[39m(\u001b[38;5;28mself\u001b[39m, tz\u001b[38;5;241m=\u001b[39m\u001b[38;5;28;01mNone\u001b[39;00m):\n\u001b[0;32m   1067\u001b[0m \u001b[38;5;250m    \u001b[39m\u001b[38;5;124;03m\"\"\"\u001b[39;00m\n\u001b[0;32m   1068\u001b[0m \u001b[38;5;124;03m    Parameters\u001b[39;00m\n\u001b[0;32m   1069\u001b[0m \u001b[38;5;124;03m    ----------\u001b[39;00m\n\u001b[0;32m   1070\u001b[0m \u001b[38;5;124;03m    tz : str or `~datetime.tzinfo`, default: :rc:`timezone`\u001b[39;00m\n\u001b[0;32m   1071\u001b[0m \u001b[38;5;124;03m        Ticks timezone. If a string, *tz* is passed to `dateutil.tz`.\u001b[39;00m\n\u001b[0;32m   1072\u001b[0m \u001b[38;5;124;03m    \"\"\"\u001b[39;00m\n\u001b[1;32m-> 1073\u001b[0m     \u001b[38;5;28mself\u001b[39m\u001b[38;5;241m.\u001b[39mtz \u001b[38;5;241m=\u001b[39m _get_tzinfo(tz)\n",
      "File \u001b[1;32m~\\anaconda3\\Lib\\site-packages\\matplotlib\\dates.py:224\u001b[0m, in \u001b[0;36m_get_tzinfo\u001b[1;34m(tz)\u001b[0m\n\u001b[0;32m    222\u001b[0m \u001b[38;5;28;01mif\u001b[39;00m \u001b[38;5;28misinstance\u001b[39m(tz, datetime\u001b[38;5;241m.\u001b[39mtzinfo):\n\u001b[0;32m    223\u001b[0m     \u001b[38;5;28;01mreturn\u001b[39;00m tz\n\u001b[1;32m--> 224\u001b[0m \u001b[38;5;28;01mraise\u001b[39;00m \u001b[38;5;167;01mTypeError\u001b[39;00m(\u001b[38;5;124mf\u001b[39m\u001b[38;5;124m\"\u001b[39m\u001b[38;5;124mtz must be string or tzinfo subclass, not \u001b[39m\u001b[38;5;132;01m{\u001b[39;00mtz\u001b[38;5;132;01m!r}\u001b[39;00m\u001b[38;5;124m.\u001b[39m\u001b[38;5;124m\"\u001b[39m)\n",
      "\u001b[1;31mTypeError\u001b[0m: tz must be string or tzinfo subclass, not <matplotlib.category.UnitData object at 0x0000017E9C157200>."
     ]
    },
    {
     "data": {
      "image/png": "[encoded data removed]",
      "text/plain": [
       "<Figure size 1000x600 with 1 Axes>"
      ]
     },
     "metadata": {},
     "output_type": "display_data"
    }
   ],
   "source": [
    "# Forecast the next 1000 values\n",
    "forecast_steps = 1000\n",
    "forecast = model_fit.forecast(steps=forecast_steps)\n",
    "\n",
    "# Plot the forecasted values\n",
    "plt.figure(figsize=(10, 6))\n",
    "plt.plot(data.index, data['Temperature (Fahrenheit) MAX'], label='Observed', color='blue')\n",
    "plt.plot(pd.date_range(data.index[-1], periods=forecast_steps+1, freq='D')[1:], forecast, label='Forecast', color='red')\n",
    "plt.title('Temperature Forecast')\n",
    "plt.xlabel('Date')\n",
    "plt.ylabel('Temperature (Fahrenheit)')\n",
    "plt.legend()\n",
    "plt.show()\n"
   ]
  },
  {
   "cell_type": "code",
   "execution_count": 26,
   "id": "5db443eb-9a46-404e-bbae-3a39318aa8ce",
   "metadata": {},
   "outputs": [
    {
     "name": "stdout",
     "output_type": "stream",
     "text": [
      "Index(['Date', 'Temperature (Fahrenheit) MAX', 'AVG', 'MIN',\n",
      "       'Precipitation (in)'],\n",
      "      dtype='object')\n",
      "DatetimeIndex(['2018-09-01', '2018-09-02', '2018-09-03', '2018-09-04',\n",
      "               '2018-09-05', '2018-09-06', '2018-09-07', '2018-09-08',\n",
      "               '2018-09-09', '2018-09-10', '2018-09-11', '2018-09-12',\n",
      "               '2018-09-13', '2018-09-14', '2018-09-15', '2018-09-16',\n",
      "               '2018-09-17', '2018-09-18', '2018-09-19', '2018-09-20',\n",
      "               '2018-09-21', '2018-09-22', '2018-09-23', '2018-09-24',\n",
      "               '2018-09-25', '2018-09-26', '2018-09-27', '2018-09-28',\n",
      "               '2018-09-29', '2018-09-30'],\n",
      "              dtype='datetime64[ns]', name='Date', freq=None)\n",
      "            Temperature (Fahrenheit) MAX   AVG  MIN  Precipitation (in)\n",
      "Date                                                                   \n",
      "2018-09-01                            81  64.0   48                   0\n",
      "2018-09-02                            81  65.3   48                   0\n",
      "2018-09-03                            72  63.0   52                   0\n",
      "2018-09-04                            82  59.9   39                   0\n",
      "2018-09-05                            86  65.7   48                   0\n"
     ]
    }
   ],
   "source": [
    "import pandas as pd\n",
    "\n",
    "# Load the CSV file\n",
    "data = pd.read_csv(\"C:\\\\Users\\\\Kirsten\\\\Desktop\\\\Weather dataset sep 2018.csv\")\n",
    "\n",
    "# Check column names to make sure 'Date' exists\n",
    "print(data.columns)\n",
    "\n",
    "# Convert 'Date' column to datetime format\n",
    "data['Date'] = pd.to_datetime(data['Date'], errors='coerce', format='%d/%m/%Y')\n",
    "\n",
    "# Set it as index\n",
    "data.set_index('Date', inplace=True)\n",
    "\n",
    "# Verify the index\n",
    "print(data.index)\n",
    "print(data.head())  # Check if the Date column is properly formatted\n"
   ]
  },
  {
   "cell_type": "code",
   "execution_count": 27,
   "id": "017bcbe2-64ae-4f62-a2ce-3a1b7c42a153",
   "metadata": {},
   "outputs": [
    {
     "name": "stdout",
     "output_type": "stream",
     "text": [
      "Index(['Temperature (Fahrenheit) MAX', 'AVG', 'MIN', 'Precipitation (in)'], dtype='object')\n"
     ]
    }
   ],
   "source": [
    "print(data.columns)"
   ]
  },
  {
   "cell_type": "code",
   "execution_count": 28,
   "id": "57c7a64e-6edb-4f6c-93a1-136996268cf9",
   "metadata": {},
   "outputs": [
    {
     "ename": "KeyError",
     "evalue": "'DATETIME'",
     "output_type": "error",
     "traceback": [
      "\u001b[1;31m---------------------------------------------------------------------------\u001b[0m",
      "\u001b[1;31mKeyError\u001b[0m                                  Traceback (most recent call last)",
      "File \u001b[1;32m~\\anaconda3\\Lib\\site-packages\\pandas\\core\\indexes\\base.py:3805\u001b[0m, in \u001b[0;36mIndex.get_loc\u001b[1;34m(self, key)\u001b[0m\n\u001b[0;32m   3804\u001b[0m \u001b[38;5;28;01mtry\u001b[39;00m:\n\u001b[1;32m-> 3805\u001b[0m     \u001b[38;5;28;01mreturn\u001b[39;00m \u001b[38;5;28mself\u001b[39m\u001b[38;5;241m.\u001b[39m_engine\u001b[38;5;241m.\u001b[39mget_loc(casted_key)\n\u001b[0;32m   3806\u001b[0m \u001b[38;5;28;01mexcept\u001b[39;00m \u001b[38;5;167;01mKeyError\u001b[39;00m \u001b[38;5;28;01mas\u001b[39;00m err:\n",
      "File \u001b[1;32mindex.pyx:167\u001b[0m, in \u001b[0;36mpandas._libs.index.IndexEngine.get_loc\u001b[1;34m()\u001b[0m\n",
      "File \u001b[1;32mindex.pyx:196\u001b[0m, in \u001b[0;36mpandas._libs.index.IndexEngine.get_loc\u001b[1;34m()\u001b[0m\n",
      "File \u001b[1;32mpandas\\\\_libs\\\\hashtable_class_helper.pxi:7081\u001b[0m, in \u001b[0;36mpandas._libs.hashtable.PyObjectHashTable.get_item\u001b[1;34m()\u001b[0m\n",
      "File \u001b[1;32mpandas\\\\_libs\\\\hashtable_class_helper.pxi:7089\u001b[0m, in \u001b[0;36mpandas._libs.hashtable.PyObjectHashTable.get_item\u001b[1;34m()\u001b[0m\n",
      "\u001b[1;31mKeyError\u001b[0m: 'DATETIME'",
      "\nThe above exception was the direct cause of the following exception:\n",
      "\u001b[1;31mKeyError\u001b[0m                                  Traceback (most recent call last)",
      "Cell \u001b[1;32mIn[28], line 1\u001b[0m\n\u001b[1;32m----> 1\u001b[0m data[\u001b[38;5;124m'\u001b[39m\u001b[38;5;124mDATETIME\u001b[39m\u001b[38;5;124m'\u001b[39m] \u001b[38;5;241m=\u001b[39m pd\u001b[38;5;241m.\u001b[39mto_datetime(data[\u001b[38;5;124m'\u001b[39m\u001b[38;5;124mDATETIME\u001b[39m\u001b[38;5;124m'\u001b[39m], \u001b[38;5;28mformat\u001b[39m\u001b[38;5;241m=\u001b[39m\u001b[38;5;124m'\u001b[39m\u001b[38;5;132;01m%d\u001b[39;00m\u001b[38;5;124m/\u001b[39m\u001b[38;5;124m%\u001b[39m\u001b[38;5;124mm/\u001b[39m\u001b[38;5;124m%\u001b[39m\u001b[38;5;124mY\u001b[39m\u001b[38;5;124m'\u001b[39m, errors\u001b[38;5;241m=\u001b[39m\u001b[38;5;124m'\u001b[39m\u001b[38;5;124mcoerce\u001b[39m\u001b[38;5;124m'\u001b[39m)\n",
      "File \u001b[1;32m~\\anaconda3\\Lib\\site-packages\\pandas\\core\\frame.py:4102\u001b[0m, in \u001b[0;36mDataFrame.__getitem__\u001b[1;34m(self, key)\u001b[0m\n\u001b[0;32m   4100\u001b[0m \u001b[38;5;28;01mif\u001b[39;00m \u001b[38;5;28mself\u001b[39m\u001b[38;5;241m.\u001b[39mcolumns\u001b[38;5;241m.\u001b[39mnlevels \u001b[38;5;241m>\u001b[39m \u001b[38;5;241m1\u001b[39m:\n\u001b[0;32m   4101\u001b[0m     \u001b[38;5;28;01mreturn\u001b[39;00m \u001b[38;5;28mself\u001b[39m\u001b[38;5;241m.\u001b[39m_getitem_multilevel(key)\n\u001b[1;32m-> 4102\u001b[0m indexer \u001b[38;5;241m=\u001b[39m \u001b[38;5;28mself\u001b[39m\u001b[38;5;241m.\u001b[39mcolumns\u001b[38;5;241m.\u001b[39mget_loc(key)\n\u001b[0;32m   4103\u001b[0m \u001b[38;5;28;01mif\u001b[39;00m is_integer(indexer):\n\u001b[0;32m   4104\u001b[0m     indexer \u001b[38;5;241m=\u001b[39m [indexer]\n",
      "File \u001b[1;32m~\\anaconda3\\Lib\\site-packages\\pandas\\core\\indexes\\base.py:3812\u001b[0m, in \u001b[0;36mIndex.get_loc\u001b[1;34m(self, key)\u001b[0m\n\u001b[0;32m   3807\u001b[0m     \u001b[38;5;28;01mif\u001b[39;00m \u001b[38;5;28misinstance\u001b[39m(casted_key, \u001b[38;5;28mslice\u001b[39m) \u001b[38;5;129;01mor\u001b[39;00m (\n\u001b[0;32m   3808\u001b[0m         \u001b[38;5;28misinstance\u001b[39m(casted_key, abc\u001b[38;5;241m.\u001b[39mIterable)\n\u001b[0;32m   3809\u001b[0m         \u001b[38;5;129;01mand\u001b[39;00m \u001b[38;5;28many\u001b[39m(\u001b[38;5;28misinstance\u001b[39m(x, \u001b[38;5;28mslice\u001b[39m) \u001b[38;5;28;01mfor\u001b[39;00m x \u001b[38;5;129;01min\u001b[39;00m casted_key)\n\u001b[0;32m   3810\u001b[0m     ):\n\u001b[0;32m   3811\u001b[0m         \u001b[38;5;28;01mraise\u001b[39;00m InvalidIndexError(key)\n\u001b[1;32m-> 3812\u001b[0m     \u001b[38;5;28;01mraise\u001b[39;00m \u001b[38;5;167;01mKeyError\u001b[39;00m(key) \u001b[38;5;28;01mfrom\u001b[39;00m \u001b[38;5;21;01merr\u001b[39;00m\n\u001b[0;32m   3813\u001b[0m \u001b[38;5;28;01mexcept\u001b[39;00m \u001b[38;5;167;01mTypeError\u001b[39;00m:\n\u001b[0;32m   3814\u001b[0m     \u001b[38;5;66;03m# If we have a listlike key, _check_indexing_error will raise\u001b[39;00m\n\u001b[0;32m   3815\u001b[0m     \u001b[38;5;66;03m#  InvalidIndexError. Otherwise we fall through and re-raise\u001b[39;00m\n\u001b[0;32m   3816\u001b[0m     \u001b[38;5;66;03m#  the TypeError.\u001b[39;00m\n\u001b[0;32m   3817\u001b[0m     \u001b[38;5;28mself\u001b[39m\u001b[38;5;241m.\u001b[39m_check_indexing_error(key)\n",
      "\u001b[1;31mKeyError\u001b[0m: 'DATETIME'"
     ]
    }
   ],
   "source": [
    "data['DATETIME'] = pd.to_datetime(data['DATETIME'], format='%d/%m/%Y', errors='coerce')\n"
   ]
  },
  {
   "cell_type": "code",
   "execution_count": 29,
   "id": "524bdb63-b463-485d-9a43-781b5a0df9eb",
   "metadata": {},
   "outputs": [],
   "source": [
    "import pandas as pd\n",
    "import numpy as np\n",
    "import matplotlib.pyplot as plt\n",
    "from statsmodels.tsa.arima.model import ARIMA\n",
    "from statsmodels.graphics.tsaplots import plot_acf, plot_pacf\n",
    "from sklearn.metrics import mean_squared_error\n"
   ]
  },
  {
   "cell_type": "code",
   "execution_count": 32,
   "id": "94c6ea51-54b1-4fce-86ff-996abc5f856d",
   "metadata": {},
   "outputs": [
    {
     "name": "stdout",
     "output_type": "stream",
     "text": [
      "            Temperature (Fahrenheit) MAX   AVG  MIN  Precipitation (in)\n",
      "DATETIME                                                               \n",
      "2018-09-01                            81  64.0   48                   0\n",
      "2018-09-02                            81  65.3   48                   0\n",
      "2018-09-03                            72  63.0   52                   0\n",
      "2018-09-04                            82  59.9   39                   0\n",
      "2018-09-05                            86  65.7   48                   0\n"
     ]
    }
   ],
   "source": [
    "# Assuming you have a CSV file, load the data\n",
    "data = pd.read_csv('C:\\\\Users\\\\Kirsten\\\\Desktop\\\\Weather dataset sep 2018.csv')\n",
    "\n",
    "# Convert the 'Date' column to datetime format if not already\n",
    "data['DATETIME'] = pd.to_datetime(data['DATETIME'], dayfirst=True)\n",
    "\n",
    "# Set the Date column as the index\n",
    "data.set_index('DATETIME', inplace=True)\n",
    "\n",
    "# Check the first few rows of the data\n",
    "print(data.head())\n"
   ]
  },
  {
   "cell_type": "code",
   "execution_count": 33,
   "id": "f390e3f8-513c-4792-bfae-0da84f04bb68",
   "metadata": {},
   "outputs": [
    {
     "name": "stdout",
     "output_type": "stream",
     "text": [
      "ADF Statistic: -2.4666363306946724\n",
      "p-value: 0.12380450493451145\n"
     ]
    }
   ],
   "source": [
    "from statsmodels.tsa.stattools import adfuller\n",
    "\n",
    "# Perform the ADF test on the temperature (or any other column you're forecasting)\n",
    "result = adfuller(data['Temperature (Fahrenheit) MAX'])\n",
    "\n",
    "print(f\"ADF Statistic: {result[0]}\")\n",
    "print(f\"p-value: {result[1]}\")\n"
   ]
  },
  {
   "cell_type": "code",
   "execution_count": 34,
   "id": "ad9cd9b1-50b0-4957-ac79-9270de474215",
   "metadata": {},
   "outputs": [
    {
     "name": "stdout",
     "output_type": "stream",
     "text": [
      "ADF Statistic: -4.7502644188286025\n",
      "p-value: 6.764049076123275e-05\n"
     ]
    }
   ],
   "source": [
    "# Take the first difference if the series is non-stationary\n",
    "data['Temperature_diff'] = data['Temperature (Fahrenheit) MAX'].diff()\n",
    "data.dropna(inplace=True)\n",
    "\n",
    "# Check if the series is now stationary\n",
    "result = adfuller(data['Temperature_diff'])\n",
    "print(f\"ADF Statistic: {result[0]}\")\n",
    "print(f\"p-value: {result[1]}\")\n"
   ]
  },
  {
   "cell_type": "code",
   "execution_count": 35,
   "id": "b42aeb28-ca33-4bc6-a685-9dc010ab02ec",
   "metadata": {},
   "outputs": [
    {
     "data": {
      "image/png": "[encoded data removed]",
      "text/plain": [
       "<Figure size 640x480 with 1 Axes>"
      ]
     },
     "metadata": {},
     "output_type": "display_data"
    },
    {
     "data": {
      "image/png": "[encoded data removed]",
      "text/plain": [
       "<Figure size 640x480 with 1 Axes>"
      ]
     },
     "metadata": {},
     "output_type": "display_data"
    }
   ],
   "source": [
    "# Plot the ACF and PACF of the differenced data\n",
    "plot_acf(data['Temperature_diff'])\n",
    "plot_pacf(data['Temperature_diff'])\n",
    "plt.show()\n"
   ]
  },
  {
   "cell_type": "code",
   "execution_count": 36,
   "id": "08a1ee27-5f70-429b-9cfc-7a5f03f01626",
   "metadata": {},
   "outputs": [
    {
     "name": "stderr",
     "output_type": "stream",
     "text": [
      "C:\\Users\\Kirsten\\anaconda3\\Lib\\site-packages\\statsmodels\\tsa\\base\\tsa_model.py:473: ValueWarning: No frequency information was provided, so inferred frequency D will be used.\n",
      "  self._init_dates(dates, freq)\n",
      "C:\\Users\\Kirsten\\anaconda3\\Lib\\site-packages\\statsmodels\\tsa\\base\\tsa_model.py:473: ValueWarning: No frequency information was provided, so inferred frequency D will be used.\n",
      "  self._init_dates(dates, freq)\n",
      "C:\\Users\\Kirsten\\anaconda3\\Lib\\site-packages\\statsmodels\\tsa\\base\\tsa_model.py:473: ValueWarning: No frequency information was provided, so inferred frequency D will be used.\n",
      "  self._init_dates(dates, freq)\n"
     ]
    },
    {
     "name": "stdout",
     "output_type": "stream",
     "text": [
      "                                    SARIMAX Results                                     \n",
      "========================================================================================\n",
      "Dep. Variable:     Temperature (Fahrenheit) MAX   No. Observations:                   29\n",
      "Model:                           ARIMA(1, 1, 1)   Log Likelihood                 -87.597\n",
      "Date:                          Sun, 23 Mar 2025   AIC                            181.193\n",
      "Time:                                  19:41:06   BIC                            185.190\n",
      "Sample:                              09-02-2018   HQIC                           182.415\n",
      "                                   - 09-30-2018                                         \n",
      "Covariance Type:                            opg                                         \n",
      "==============================================================================\n",
      "                 coef    std err          z      P>|z|      [0.025      0.975]\n",
      "------------------------------------------------------------------------------\n",
      "ar.L1          0.7175      0.255      2.811      0.005       0.217       1.218\n",
      "ma.L1         -0.9998     72.371     -0.014      0.989    -142.845     140.845\n",
      "sigma2        28.7216   2077.152      0.014      0.989   -4042.422    4099.865\n",
      "===================================================================================\n",
      "Ljung-Box (L1) (Q):                   0.49   Jarque-Bera (JB):                 3.74\n",
      "Prob(Q):                              0.48   Prob(JB):                         0.15\n",
      "Heteroskedasticity (H):               0.37   Skew:                            -0.86\n",
      "Prob(H) (two-sided):                  0.16   Kurtosis:                         2.50\n",
      "===================================================================================\n",
      "\n",
      "Warnings:\n",
      "[1] Covariance matrix calculated using the outer product of gradients (complex-step).\n"
     ]
    }
   ],
   "source": [
    "# Define the ARIMA model\n",
    "# For example, let's use ARIMA(1, 1, 1) based on ACF and PACF plots\n",
    "model = ARIMA(data['Temperature (Fahrenheit) MAX'], order=(1, 1, 1))\n",
    "\n",
    "# Fit the model\n",
    "model_fit = model.fit()\n",
    "\n",
    "# Print the model summary\n",
    "print(model_fit.summary())\n"
   ]
  },
  {
   "cell_type": "code",
   "execution_count": 37,
   "id": "7f457afb-9be4-4a3f-a88d-893a0e1187f9",
   "metadata": {},
   "outputs": [
    {
     "data": {
      "image/png": "[encoded data removed]",
      "text/plain": [
       "<Figure size 1000x600 with 1 Axes>"
      ]
     },
     "metadata": {},
     "output_type": "display_data"
    }
   ],
   "source": [
    "# Forecast the next 1000 values\n",
    "forecast_steps = 1000\n",
    "forecast = model_fit.forecast(steps=forecast_steps)\n",
    "\n",
    "# Plot the forecasted values\n",
    "plt.figure(figsize=(10, 6))\n",
    "plt.plot(data.index, data['Temperature (Fahrenheit) MAX'], label='Observed', color='blue')\n",
    "plt.plot(pd.date_range(data.index[-1], periods=forecast_steps+1, freq='D')[1:], forecast, label='Forecast', color='red')\n",
    "plt.title('Temperature Forecast')\n",
    "plt.xlabel('Date')\n",
    "plt.ylabel('Temperature (Fahrenheit)')\n",
    "plt.legend()\n",
    "plt.show()\n"
   ]
  },
  {
   "cell_type": "code",
   "execution_count": 38,
   "id": "0e167cb3-3f5a-4179-8b63-0b13ffe37d3f",
   "metadata": {},
   "outputs": [
    {
     "name": "stdout",
     "output_type": "stream",
     "text": [
      "Mean Squared Error: 49.55907078332511\n"
     ]
    }
   ],
   "source": [
    "# If you have actual values to compare with, calculate the Mean Squared Error (MSE)\n",
    "# For demonstration, let's assume you have a 'Test' set (e.g., `test_data`).\n",
    "\n",
    "# For example, using the last part of your data as test data:\n",
    "test_data = data[-100:]  # Last 100 records for testing\n",
    "forecast_test = model_fit.forecast(steps=len(test_data))\n",
    "\n",
    "# Calculate MSE\n",
    "mse = mean_squared_error(test_data['Temperature (Fahrenheit) MAX'], forecast_test)\n",
    "print(f\"Mean Squared Error: {mse}\")\n"
   ]
  },
  {
   "cell_type": "code",
   "execution_count": 39,
   "id": "20187347-dd40-4bd9-ab28-6b21d44ef766",
   "metadata": {},
   "outputs": [],
   "source": [
    "# Create a DataFrame with the forecasted data\n",
    "forecast_dates = pd.date_range(data.index[-1], periods=forecast_steps+1, freq='D')[1:]\n",
    "forecast_df = pd.DataFrame(forecast, index=forecast_dates, columns=['Forecast'])\n",
    "\n",
    "# Save the forecasted values to a CSV file\n",
    "forecast_df.to_csv('C:\\\\Users\\\\Kirsten\\\\Desktop\\\\forecasted_weather_data.csv')\n"
   ]
  },
  {
   "cell_type": "code",
   "execution_count": 41,
   "id": "f538a6dc-8972-4961-91d9-42cb9de5f430",
   "metadata": {},
   "outputs": [
    {
     "ename": "KeyError",
     "evalue": "'Date'",
     "output_type": "error",
     "traceback": [
      "\u001b[1;31m---------------------------------------------------------------------------\u001b[0m",
      "\u001b[1;31mKeyError\u001b[0m                                  Traceback (most recent call last)",
      "File \u001b[1;32m~\\anaconda3\\Lib\\site-packages\\pandas\\core\\indexes\\base.py:3805\u001b[0m, in \u001b[0;36mIndex.get_loc\u001b[1;34m(self, key)\u001b[0m\n\u001b[0;32m   3804\u001b[0m \u001b[38;5;28;01mtry\u001b[39;00m:\n\u001b[1;32m-> 3805\u001b[0m     \u001b[38;5;28;01mreturn\u001b[39;00m \u001b[38;5;28mself\u001b[39m\u001b[38;5;241m.\u001b[39m_engine\u001b[38;5;241m.\u001b[39mget_loc(casted_key)\n\u001b[0;32m   3806\u001b[0m \u001b[38;5;28;01mexcept\u001b[39;00m \u001b[38;5;167;01mKeyError\u001b[39;00m \u001b[38;5;28;01mas\u001b[39;00m err:\n",
      "File \u001b[1;32mindex.pyx:167\u001b[0m, in \u001b[0;36mpandas._libs.index.IndexEngine.get_loc\u001b[1;34m()\u001b[0m\n",
      "File \u001b[1;32mindex.pyx:196\u001b[0m, in \u001b[0;36mpandas._libs.index.IndexEngine.get_loc\u001b[1;34m()\u001b[0m\n",
      "File \u001b[1;32mpandas\\\\_libs\\\\hashtable_class_helper.pxi:7081\u001b[0m, in \u001b[0;36mpandas._libs.hashtable.PyObjectHashTable.get_item\u001b[1;34m()\u001b[0m\n",
      "File \u001b[1;32mpandas\\\\_libs\\\\hashtable_class_helper.pxi:7089\u001b[0m, in \u001b[0;36mpandas._libs.hashtable.PyObjectHashTable.get_item\u001b[1;34m()\u001b[0m\n",
      "\u001b[1;31mKeyError\u001b[0m: 'Date'",
      "\nThe above exception was the direct cause of the following exception:\n",
      "\u001b[1;31mKeyError\u001b[0m                                  Traceback (most recent call last)",
      "Cell \u001b[1;32mIn[41], line 6\u001b[0m\n\u001b[0;32m      4\u001b[0m \u001b[38;5;66;03m# Load the dataset\u001b[39;00m\n\u001b[0;32m      5\u001b[0m data \u001b[38;5;241m=\u001b[39m pd\u001b[38;5;241m.\u001b[39mread_csv(\u001b[38;5;124m\"\u001b[39m\u001b[38;5;124mC:\u001b[39m\u001b[38;5;130;01m\\\\\u001b[39;00m\u001b[38;5;124mUsers\u001b[39m\u001b[38;5;130;01m\\\\\u001b[39;00m\u001b[38;5;124mKirsten\u001b[39m\u001b[38;5;130;01m\\\\\u001b[39;00m\u001b[38;5;124mDesktop\u001b[39m\u001b[38;5;130;01m\\\\\u001b[39;00m\u001b[38;5;124mWeather dataset sep 2018.csv\u001b[39m\u001b[38;5;124m\"\u001b[39m)\n\u001b[1;32m----> 6\u001b[0m data[\u001b[38;5;124m'\u001b[39m\u001b[38;5;124mDATETIME\u001b[39m\u001b[38;5;124m'\u001b[39m] \u001b[38;5;241m=\u001b[39m pd\u001b[38;5;241m.\u001b[39mto_datetime(data[\u001b[38;5;124m'\u001b[39m\u001b[38;5;124mDate\u001b[39m\u001b[38;5;124m'\u001b[39m], errors\u001b[38;5;241m=\u001b[39m\u001b[38;5;124m'\u001b[39m\u001b[38;5;124mcoerce\u001b[39m\u001b[38;5;124m'\u001b[39m, \u001b[38;5;28mformat\u001b[39m\u001b[38;5;241m=\u001b[39m\u001b[38;5;124m'\u001b[39m\u001b[38;5;132;01m%d\u001b[39;00m\u001b[38;5;124m/\u001b[39m\u001b[38;5;124m%\u001b[39m\u001b[38;5;124mm/\u001b[39m\u001b[38;5;124m%\u001b[39m\u001b[38;5;124mY\u001b[39m\u001b[38;5;124m'\u001b[39m)\n\u001b[0;32m      7\u001b[0m data\u001b[38;5;241m.\u001b[39mset_index(\u001b[38;5;124m'\u001b[39m\u001b[38;5;124mDATETIME\u001b[39m\u001b[38;5;124m'\u001b[39m, inplace\u001b[38;5;241m=\u001b[39m\u001b[38;5;28;01mTrue\u001b[39;00m)\n\u001b[0;32m      9\u001b[0m \u001b[38;5;66;03m# Define columns to forecast\u001b[39;00m\n",
      "File \u001b[1;32m~\\anaconda3\\Lib\\site-packages\\pandas\\core\\frame.py:4102\u001b[0m, in \u001b[0;36mDataFrame.__getitem__\u001b[1;34m(self, key)\u001b[0m\n\u001b[0;32m   4100\u001b[0m \u001b[38;5;28;01mif\u001b[39;00m \u001b[38;5;28mself\u001b[39m\u001b[38;5;241m.\u001b[39mcolumns\u001b[38;5;241m.\u001b[39mnlevels \u001b[38;5;241m>\u001b[39m \u001b[38;5;241m1\u001b[39m:\n\u001b[0;32m   4101\u001b[0m     \u001b[38;5;28;01mreturn\u001b[39;00m \u001b[38;5;28mself\u001b[39m\u001b[38;5;241m.\u001b[39m_getitem_multilevel(key)\n\u001b[1;32m-> 4102\u001b[0m indexer \u001b[38;5;241m=\u001b[39m \u001b[38;5;28mself\u001b[39m\u001b[38;5;241m.\u001b[39mcolumns\u001b[38;5;241m.\u001b[39mget_loc(key)\n\u001b[0;32m   4103\u001b[0m \u001b[38;5;28;01mif\u001b[39;00m is_integer(indexer):\n\u001b[0;32m   4104\u001b[0m     indexer \u001b[38;5;241m=\u001b[39m [indexer]\n",
      "File \u001b[1;32m~\\anaconda3\\Lib\\site-packages\\pandas\\core\\indexes\\base.py:3812\u001b[0m, in \u001b[0;36mIndex.get_loc\u001b[1;34m(self, key)\u001b[0m\n\u001b[0;32m   3807\u001b[0m     \u001b[38;5;28;01mif\u001b[39;00m \u001b[38;5;28misinstance\u001b[39m(casted_key, \u001b[38;5;28mslice\u001b[39m) \u001b[38;5;129;01mor\u001b[39;00m (\n\u001b[0;32m   3808\u001b[0m         \u001b[38;5;28misinstance\u001b[39m(casted_key, abc\u001b[38;5;241m.\u001b[39mIterable)\n\u001b[0;32m   3809\u001b[0m         \u001b[38;5;129;01mand\u001b[39;00m \u001b[38;5;28many\u001b[39m(\u001b[38;5;28misinstance\u001b[39m(x, \u001b[38;5;28mslice\u001b[39m) \u001b[38;5;28;01mfor\u001b[39;00m x \u001b[38;5;129;01min\u001b[39;00m casted_key)\n\u001b[0;32m   3810\u001b[0m     ):\n\u001b[0;32m   3811\u001b[0m         \u001b[38;5;28;01mraise\u001b[39;00m InvalidIndexError(key)\n\u001b[1;32m-> 3812\u001b[0m     \u001b[38;5;28;01mraise\u001b[39;00m \u001b[38;5;167;01mKeyError\u001b[39;00m(key) \u001b[38;5;28;01mfrom\u001b[39;00m \u001b[38;5;21;01merr\u001b[39;00m\n\u001b[0;32m   3813\u001b[0m \u001b[38;5;28;01mexcept\u001b[39;00m \u001b[38;5;167;01mTypeError\u001b[39;00m:\n\u001b[0;32m   3814\u001b[0m     \u001b[38;5;66;03m# If we have a listlike key, _check_indexing_error will raise\u001b[39;00m\n\u001b[0;32m   3815\u001b[0m     \u001b[38;5;66;03m#  InvalidIndexError. Otherwise we fall through and re-raise\u001b[39;00m\n\u001b[0;32m   3816\u001b[0m     \u001b[38;5;66;03m#  the TypeError.\u001b[39;00m\n\u001b[0;32m   3817\u001b[0m     \u001b[38;5;28mself\u001b[39m\u001b[38;5;241m.\u001b[39m_check_indexing_error(key)\n",
      "\u001b[1;31mKeyError\u001b[0m: 'Date'"
     ]
    }
   ],
   "source": [
    "import pandas as pd\n",
    "from statsmodels.tsa.arima.model import ARIMA\n",
    "\n",
    "# Load the dataset\n",
    "data = pd.read_csv(\"C:\\\\Users\\\\Kirsten\\\\Desktop\\\\Weather dataset sep 2018.csv\")\n",
    "data['DATETIME'] = pd.to_datetime(data['Date'], errors='coerce', format='%d/%m/%Y')\n",
    "data.set_index('DATETIME', inplace=True)\n",
    "\n",
    "# Define columns to forecast\n",
    "columns_to_forecast = ['Temperature (Fahrenheit) MAX', 'AVG', \n",
    "                       'MIN', 'Precipitation (in)']\n",
    "\n",
    "# Create a dictionary to store forecasts\n",
    "forecast_dict = {}\n",
    "\n",
    "# Forecast each variable\n",
    "for col in columns_to_forecast:\n",
    "    temp_series = data[col]\n",
    "    \n",
    "    # Fit ARIMA model (you can adjust the order as needed)\n",
    "    model = ARIMA(temp_series, order=(1,1,1))\n",
    "    model_fit = model.fit()\n",
    "\n",
    "    # Forecast the future values\n",
    "    forecast_steps = 1000\n",
    "    forecast = model_fit.forecast(steps=forecast_steps)\n",
    "\n",
    "    # Store the forecasted values in the dictionary\n",
    "    forecast_dict[col] = forecast\n",
    "\n",
    "# Generate future dates for the forecast\n",
    "forecast_dates = pd.date_range(start=data.index[-1], periods=forecast_steps+1, freq='D')[1:]\n",
    "\n",
    "# Create a DataFrame with forecasted values for all variables\n",
    "forecast_df = pd.DataFrame(forecast_dict, index=forecast_dates)\n",
    "\n",
    "# Save the forecasted values to a CSV file\n",
    "forecast_df.to_csv('C:\\\\Users\\\\Kirsten\\\\Desktop\\\\forecasted_weather_data.csv')\n",
    "\n",
    "# Display the forecasted DataFrame\n",
    "print(forecast_df.head())\n"
   ]
  },
  {
   "cell_type": "code",
   "execution_count": 43,
   "id": "f4844e04-9800-463d-84ae-dc3422345439",
   "metadata": {},
   "outputs": [
    {
     "name": "stdout",
     "output_type": "stream",
     "text": [
      "Index(['DATETIME', 'Temperature (Fahrenheit) MAX', 'AVG', 'MIN',\n",
      "       'Precipitation (in)'],\n",
      "      dtype='object')\n"
     ]
    }
   ],
   "source": [
    "# Check column names to see if 'Date' exists or something else\n",
    "print(data.columns)\n",
    "\n",
    "# Clean up column names if there are extra spaces\n",
    "data.columns = data.columns.str.strip()\n",
    "\n",
    "# After inspecting and confirming the correct column name, use it\n",
    "data['DATETIME'] = pd.to_datetime(data['DATETIME'], errors='coerce', format='%d/%m/%Y')\n",
    "\n",
    "# Set the index\n",
    "data.set_index('DATETIME', inplace=True)\n"
   ]
  },
  {
   "cell_type": "code",
   "execution_count": 45,
   "id": "046c6e24-8ace-476b-9a09-b1ac6b39c3f8",
   "metadata": {},
   "outputs": [
    {
     "name": "stderr",
     "output_type": "stream",
     "text": [
      "C:\\Users\\Kirsten\\anaconda3\\Lib\\site-packages\\statsmodels\\tsa\\base\\tsa_model.py:473: ValueWarning: No frequency information was provided, so inferred frequency D will be used.\n",
      "  self._init_dates(dates, freq)\n",
      "C:\\Users\\Kirsten\\anaconda3\\Lib\\site-packages\\statsmodels\\tsa\\base\\tsa_model.py:473: ValueWarning: No frequency information was provided, so inferred frequency D will be used.\n",
      "  self._init_dates(dates, freq)\n",
      "C:\\Users\\Kirsten\\anaconda3\\Lib\\site-packages\\statsmodels\\tsa\\base\\tsa_model.py:473: ValueWarning: No frequency information was provided, so inferred frequency D will be used.\n",
      "  self._init_dates(dates, freq)\n",
      "C:\\Users\\Kirsten\\anaconda3\\Lib\\site-packages\\statsmodels\\tsa\\statespace\\sarimax.py:966: UserWarning: Non-stationary starting autoregressive parameters found. Using zeros as starting parameters.\n",
      "  warn('Non-stationary starting autoregressive parameters'\n",
      "C:\\Users\\Kirsten\\anaconda3\\Lib\\site-packages\\statsmodels\\tsa\\statespace\\sarimax.py:978: UserWarning: Non-invertible starting MA parameters found. Using zeros as starting parameters.\n",
      "  warn('Non-invertible starting MA parameters found.'\n",
      "C:\\Users\\Kirsten\\anaconda3\\Lib\\site-packages\\statsmodels\\tsa\\base\\tsa_model.py:473: ValueWarning: No frequency information was provided, so inferred frequency D will be used.\n",
      "  self._init_dates(dates, freq)\n",
      "C:\\Users\\Kirsten\\anaconda3\\Lib\\site-packages\\statsmodels\\tsa\\base\\tsa_model.py:473: ValueWarning: No frequency information was provided, so inferred frequency D will be used.\n",
      "  self._init_dates(dates, freq)\n",
      "C:\\Users\\Kirsten\\anaconda3\\Lib\\site-packages\\statsmodels\\tsa\\base\\tsa_model.py:473: ValueWarning: No frequency information was provided, so inferred frequency D will be used.\n",
      "  self._init_dates(dates, freq)\n",
      "C:\\Users\\Kirsten\\anaconda3\\Lib\\site-packages\\statsmodels\\tsa\\base\\tsa_model.py:473: ValueWarning: No frequency information was provided, so inferred frequency D will be used.\n",
      "  self._init_dates(dates, freq)\n",
      "C:\\Users\\Kirsten\\anaconda3\\Lib\\site-packages\\statsmodels\\tsa\\base\\tsa_model.py:473: ValueWarning: No frequency information was provided, so inferred frequency D will be used.\n",
      "  self._init_dates(dates, freq)\n",
      "C:\\Users\\Kirsten\\anaconda3\\Lib\\site-packages\\statsmodels\\tsa\\base\\tsa_model.py:473: ValueWarning: No frequency information was provided, so inferred frequency D will be used.\n",
      "  self._init_dates(dates, freq)\n",
      "C:\\Users\\Kirsten\\anaconda3\\Lib\\site-packages\\statsmodels\\tsa\\base\\tsa_model.py:473: ValueWarning: No frequency information was provided, so inferred frequency D will be used.\n",
      "  self._init_dates(dates, freq)\n",
      "C:\\Users\\Kirsten\\anaconda3\\Lib\\site-packages\\statsmodels\\tsa\\base\\tsa_model.py:473: ValueWarning: No frequency information was provided, so inferred frequency D will be used.\n",
      "  self._init_dates(dates, freq)\n",
      "C:\\Users\\Kirsten\\anaconda3\\Lib\\site-packages\\statsmodels\\tsa\\base\\tsa_model.py:473: ValueWarning: No frequency information was provided, so inferred frequency D will be used.\n",
      "  self._init_dates(dates, freq)\n",
      "C:\\Users\\Kirsten\\anaconda3\\Lib\\site-packages\\statsmodels\\base\\model.py:607: ConvergenceWarning: Maximum Likelihood optimization failed to converge. Check mle_retvals\n",
      "  warnings.warn(\"Maximum Likelihood optimization failed to \"\n"
     ]
    },
    {
     "name": "stdout",
     "output_type": "stream",
     "text": [
      "            Temperature (Fahrenheit) MAX        AVG        MIN  \\\n",
      "2018-10-01                     74.706231  64.504562  58.780173   \n",
      "2018-10-02                     74.709193  65.108809  57.250817   \n",
      "2018-10-03                     74.709164  65.512447  57.740115   \n",
      "2018-10-04                     74.709164  65.782076  57.583571   \n",
      "2018-10-05                     74.709164  65.962189  57.633655   \n",
      "\n",
      "            Precipitation (in)  \n",
      "2018-10-01                 0.0  \n",
      "2018-10-02                 0.0  \n",
      "2018-10-03                 0.0  \n",
      "2018-10-04                 0.0  \n",
      "2018-10-05                 0.0  \n"
     ]
    }
   ],
   "source": [
    "import pandas as pd\n",
    "from statsmodels.tsa.arima.model import ARIMA\n",
    "\n",
    "# Load the dataset\n",
    "data = pd.read_csv(\"C:\\\\Users\\\\Kirsten\\\\Desktop\\\\Weather dataset sep 2018.csv\")\n",
    "\n",
    "# Clean column names (remove spaces if needed)\n",
    "data.columns = data.columns.str.strip()\n",
    "\n",
    "# Convert date column to datetime\n",
    "data['DATETIME'] = pd.to_datetime(data['DATETIME'], errors='coerce', format='%d/%m/%Y')\n",
    "data.set_index('DATETIME', inplace=True)\n",
    "\n",
    "# Define columns to forecast\n",
    "columns_to_forecast = ['Temperature (Fahrenheit) MAX', 'AVG', 'MIN', 'Precipitation (in)']\n",
    "\n",
    "# Create a dictionary to store forecasts\n",
    "forecast_dict = {}\n",
    "\n",
    "# Forecasting parameters\n",
    "forecast_steps = 1000  # Number of future days to predict\n",
    "\n",
    "# Forecast each variable\n",
    "for col in columns_to_forecast:\n",
    "    temp_series = data[col].dropna()  # Drop NaN values to avoid errors\n",
    "    \n",
    "    # Fit ARIMA model (order can be adjusted)\n",
    "    model = ARIMA(temp_series, order=(1,1,1))  # Adjust ARIMA order as needed\n",
    "    model_fit = model.fit()\n",
    "\n",
    "    # Forecast 1000 future values\n",
    "    forecast = model_fit.forecast(steps=forecast_steps)\n",
    "\n",
    "    # Store the forecasted values\n",
    "    forecast_dict[col] = forecast\n",
    "\n",
    "# Generate future dates for the forecast\n",
    "forecast_dates = pd.date_range(start=data.index[-1], periods=forecast_steps+1, freq='D')[1:]\n",
    "\n",
    "# Create a DataFrame with forecasted values for all variables\n",
    "forecast_df = pd.DataFrame(forecast_dict, index=forecast_dates)\n",
    "\n",
    "# Save the forecasted values to a CSV file\n",
    "forecast_df.to_csv(\"C:\\\\Users\\\\Kirsten\\\\Desktop\\\\forecasted_weather_data.csv\")\n",
    "\n",
    "# Display the first few forecasted records\n",
    "print(forecast_df.head())\n"
   ]
  },
  {
   "cell_type": "code",
   "execution_count": 48,
   "id": "351c80f3-d515-4fba-b869-e80ec7c27917",
   "metadata": {},
   "outputs": [
    {
     "name": "stdout",
     "output_type": "stream",
     "text": [
      "            Temperature (Fahrenheit) MAX   AVG  MIN  Precipitation (in)\n",
      "DATETIME                                                               \n",
      "2018-09-01                            81  64.0   48                   0\n",
      "2018-09-02                            81  65.3   48                   0\n",
      "2018-09-03                            72  63.0   52                   0\n",
      "2018-09-04                            82  59.9   39                   0\n",
      "2018-09-05                            86  65.7   48                   0\n",
      "2018-09-06                            86  73.8   64                   0\n",
      "2018-09-07                            73  51.6    0                   0\n",
      "2018-09-08                            72  56.3   46                   0\n",
      "2018-09-09                            64  49.4   37                   0\n",
      "2018-09-10                            70  52.9   34                   0\n",
      "2018-09-11                            75  56.9   39                   0\n",
      "2018-09-12                            81  63.1   45                   0\n",
      "2018-09-13                            82  67.1   57                   0\n",
      "2018-09-14                            84  64.6   45                   0\n",
      "2018-09-15                            88  66.3   45                   0\n",
      "2018-09-16                            90  68.7   48                   0\n",
      "2018-09-17                            90  71.7   50                   0\n",
      "2018-09-18                            91  73.2   55                   0\n",
      "2018-09-19                            93  74.1   55                   0\n",
      "2018-09-20                            84  68.3   52                   0\n",
      "2018-09-21                            73  63.0   52                   0\n",
      "2018-09-22                            81  67.8   55                   0\n",
      "2018-09-23                            82  70.2   61                   0\n",
      "2018-09-24                            86  71.4   57                   0\n",
      "2018-09-25                            84  72.2   63                   0\n",
      "2018-09-26                            88  71.9   54                   0\n",
      "2018-09-27                            88  76.8   66                   0\n",
      "2018-09-28                            88  72.3   63                   0\n",
      "2018-09-29                            82  68.5   55                   0\n",
      "2018-09-30                            75  63.6   54                   0\n"
     ]
    }
   ],
   "source": [
    "print(data)"
   ]
  },
  {
   "cell_type": "code",
   "execution_count": 52,
   "id": "66056ba8-cacb-4826-94ea-4defc9a2a8fd",
   "metadata": {},
   "outputs": [],
   "source": [
    "data = pd.read_csv('C:\\\\Users\\\\Kirsten\\\\Desktop\\\\forecasted_weather_data.csv')"
   ]
  },
  {
   "cell_type": "code",
   "execution_count": 53,
   "id": "736ace1c-604f-4e06-915c-e4e0f66904d7",
   "metadata": {},
   "outputs": [
    {
     "name": "stdout",
     "output_type": "stream",
     "text": [
      "        DATETIME  Temperature (Fahrenheit) MAX        AVG        MIN  \\\n",
      "0     01/09/2018                     81.000000  64.000000  48.000000   \n",
      "1     02/09/2018                     81.000000  65.300000  48.000000   \n",
      "2     03/09/2018                     72.000000  63.000000  52.000000   \n",
      "3     04/09/2018                     82.000000  59.900000  39.000000   \n",
      "4     05/09/2018                     86.000000  65.700000  48.000000   \n",
      "...          ...                           ...        ...        ...   \n",
      "1025  22/06/2021                     74.709164  66.324584  57.621515   \n",
      "1026  23/06/2021                     74.709164  66.324584  57.621515   \n",
      "1027  24/06/2021                     74.709164  66.324584  57.621515   \n",
      "1028  25/06/2021                     74.709164  66.324584  57.621515   \n",
      "1029  26/06/2021                     74.709164  66.324584  57.621515   \n",
      "\n",
      "      Precipitation (in)  \n",
      "0                      0  \n",
      "1                      0  \n",
      "2                      0  \n",
      "3                      0  \n",
      "4                      0  \n",
      "...                  ...  \n",
      "1025                   0  \n",
      "1026                   0  \n",
      "1027                   0  \n",
      "1028                   0  \n",
      "1029                   0  \n",
      "\n",
      "[1030 rows x 5 columns]\n"
     ]
    }
   ],
   "source": [
    "print(data)"
   ]
  },
  {
   "cell_type": "code",
   "execution_count": 55,
   "id": "e5a20966-b748-44e2-9203-b5569455487c",
   "metadata": {},
   "outputs": [
    {
     "name": "stdout",
     "output_type": "stream",
     "text": [
      "            Temperature (Fahrenheit) MAX   AVG   MIN  Precipitation (in)\n",
      "DATETIME                                                                \n",
      "2018-09-01                          81.0  64.0  48.0                   0\n",
      "2018-09-02                          81.0  65.3  48.0                   0\n",
      "2018-09-03                          72.0  63.0  52.0                   0\n",
      "2018-09-04                          82.0  59.9  39.0                   0\n",
      "2018-09-05                          86.0  65.7  48.0                   0\n",
      "          Temperature (Fahrenheit) MAX        AVG        MIN  \\\n",
      "DATETIME                                                       \n",
      "NaT                          74.709164  66.324584  57.621515   \n",
      "NaT                          74.709164  66.324584  57.621515   \n",
      "NaT                          74.709164  66.324584  57.621515   \n",
      "NaT                          74.709164  66.324584  57.621515   \n",
      "NaT                          74.709164  66.324584  57.621515   \n",
      "\n",
      "          Precipitation (in)  \n",
      "DATETIME                      \n",
      "NaT                        0  \n",
      "NaT                        0  \n",
      "NaT                        0  \n",
      "NaT                        0  \n",
      "NaT                        0  \n"
     ]
    }
   ],
   "source": [
    "import pandas as pd\n",
    "\n",
    "# Load the original dataset (if you have it)\n",
    "data = pd.read_csv('C:\\\\Users\\\\Kirsten\\\\Desktop\\\\Weather dataset sep 2018.csv')\n",
    "\n",
    "# Load the forecasted dataset (from the CSV file you saved earlier)\n",
    "forecast_data = pd.read_csv('C:\\\\Users\\\\Kirsten\\\\Desktop\\\\forecasted_weather_data.csv')\n",
    "\n",
    "# Convert 'DATETIME' to datetime format for both datasets\n",
    "data['DATETIME'] = pd.to_datetime(data['DATETIME'], errors='coerce', format='%d/%m/%Y')\n",
    "data.set_index('DATETIME', inplace=True)\n",
    "\n",
    "# If you saved the forecasted data with 'forecast_df', you might also need to convert its index to datetime:\n",
    "forecast_data['DATETIME'] = pd.to_datetime(forecast_data['DATETIME'], errors='coerce')\n",
    "forecast_data.set_index('DATETIME', inplace=True)\n",
    "\n",
    "# Combine the original dataset with the forecasted dataset\n",
    "combined_data = pd.concat([data, forecast_data])\n",
    "\n",
    "# Print the combined dataset to verify\n",
    "print(combined_data.head())  # First few rows to check\n",
    "print(combined_data.tail())  # Last few rows (should show forecasted data)"
   ]
  },
  {
   "cell_type": "code",
   "execution_count": 57,
   "id": "d702c382-fe24-4eb7-bfd2-5f390a7b97e6",
   "metadata": {},
   "outputs": [
    {
     "name": "stdout",
     "output_type": "stream",
     "text": [
      "Cleaned data saved to C:\\Users\\Kirsten\\Desktop\\cleaned_weather_data.csv\n"
     ]
    }
   ],
   "source": [
    "import pandas as pd\n",
    "\n",
    "# Load the CSV file\n",
    "file_path = \"C:\\\\Users\\\\Kirsten\\\\Desktop\\\\forecasted_weather_data.csv\"  # Replace with your actual file path\n",
    "df = pd.read_csv(file_path)\n",
    "\n",
    "# Remove duplicates\n",
    "df = df.drop_duplicates()\n",
    "\n",
    "# Drop rows with missing values\n",
    "df = df.dropna()\n",
    "\n",
    "# Save the cleaned data to a new CSV file\n",
    "clean_file_path = \"cleaned_data.csv\"  # Change if needed\n",
    "df.to_csv(clean_file_path, index=False)\n",
    "\n",
    "print(f\"Cleaned data saved to {\"C:\\\\Users\\\\Kirsten\\\\Desktop\\\\cleaned_weather_data.csv\"}\")\n"
   ]
  },
  {
   "cell_type": "code",
   "execution_count": 1,
   "id": "dbf1de31-fcb7-461c-a55f-0288eeaf8180",
   "metadata": {},
   "outputs": [
    {
     "name": "stdout",
     "output_type": "stream",
     "text": [
      "Normalization complete! ✅\n"
     ]
    }
   ],
   "source": [
    "from sklearn.preprocessing import MinMaxScaler\n",
    "import pandas as pd\n",
    "\n",
    "# Load your dataset (assuming it's in a CSV)\n",
    "df = pd.read_csv(\"C:\\\\Users\\\\Kirsten\\\\Desktop\\\\forecasted_weather_data.csv\")\n",
    "\n",
    "# Select only numerical columns for scaling\n",
    "columns_to_scale = [\"Temperature (Fahrenheit) MAX\", \"AVG\", \"MIN\", \"Precipitation (in)\"]\n",
    "\n",
    "# Initialize the MinMaxScaler\n",
    "scaler = MinMaxScaler()\n",
    "\n",
    "# Fit and transform the data\n",
    "df[columns_to_scale] = scaler.fit_transform(df[columns_to_scale])\n",
    "\n",
    "# Save the normalized dataset\n",
    "df.to_csv(\"normalized_weather_data.csv\", index=False)\n",
    "\n",
    "print(\"Normalization complete! ✅\")\n"
   ]
  },
  {
   "cell_type": "code",
   "execution_count": 3,
   "id": "d5a05e3d-6509-46ab-a99b-4df283c9596d",
   "metadata": {},
   "outputs": [
    {
     "name": "stdout",
     "output_type": "stream",
     "text": [
      "Data splitting complete! ✅\n"
     ]
    }
   ],
   "source": [
    "from sklearn.model_selection import train_test_split\n",
    "\n",
    "# Assume that the target variable is 'target_column', you can replace it with your actual target variable\n",
    "X = df[columns_to_scale]  # Features\n",
    "y = df['Temperature (Fahrenheit) MAX']   # Target \n",
    "\n",
    "# Split the data (80% training, 10% validation, 10% test)\n",
    "X_train, X_temp, y_train, y_temp = train_test_split(X, y, test_size=0.2, random_state=42)\n",
    "X_valid, X_test, y_valid, y_test = train_test_split(X_temp, y_temp, test_size=0.5, random_state=42)\n",
    "\n",
    "print(\"Data splitting complete! ✅\")\n"
   ]
  },
  {
   "cell_type": "code",
   "execution_count": 4,
   "id": "869e34ae-e092-4f3b-bd8d-803f06a15c72",
   "metadata": {},
   "outputs": [
    {
     "name": "stdout",
     "output_type": "stream",
     "text": [
      "Model training complete! ✅\n"
     ]
    }
   ],
   "source": [
    "from sklearn.ensemble import RandomForestRegressor\n",
    "\n",
    "# Initialize the model\n",
    "rf_model = RandomForestRegressor(n_estimators=100, random_state=42)\n",
    "\n",
    "# Train the model\n",
    "rf_model.fit(X_train, y_train)\n",
    "\n",
    "print(\"Model training complete! ✅\")\n"
   ]
  },
  {
   "cell_type": "code",
   "execution_count": 5,
   "id": "97bb461d-4d9c-4061-a335-f7324afe22b2",
   "metadata": {},
   "outputs": [
    {
     "name": "stdout",
     "output_type": "stream",
     "text": [
      "Validation MSE: 1.0405012190809454e-05\n"
     ]
    }
   ],
   "source": [
    "from sklearn.metrics import mean_squared_error\n",
    "\n",
    "# Predict on the validation set\n",
    "y_valid_pred = rf_model.predict(X_valid)\n",
    "\n",
    "# Calculate the Mean Squared Error\n",
    "mse = mean_squared_error(y_valid, y_valid_pred)\n",
    "print(f\"Validation MSE: {mse}\")\n"
   ]
  },
  {
   "cell_type": "code",
   "execution_count": 6,
   "id": "2a6993ac-775e-4e0c-adce-9d4e86c5fd6a",
   "metadata": {},
   "outputs": [
    {
     "name": "stdout",
     "output_type": "stream",
     "text": [
      "Validation R-squared: 0.9932791746852452\n"
     ]
    }
   ],
   "source": [
    "from sklearn.metrics import r2_score\n",
    "\n",
    "r2 = r2_score(y_valid, y_valid_pred)\n",
    "print(f\"Validation R-squared: {r2}\")\n"
   ]
  },
  {
   "cell_type": "code",
   "execution_count": 7,
   "id": "44d2f8a2-3801-4ff2-b484-073fddc194da",
   "metadata": {},
   "outputs": [
    {
     "name": "stdout",
     "output_type": "stream",
     "text": [
      "Best parameters: {'max_depth': 10, 'min_samples_split': 2, 'n_estimators': 50}\n"
     ]
    }
   ],
   "source": [
    "from sklearn.model_selection import GridSearchCV\n",
    "\n",
    "# Set up the parameter grid\n",
    "param_grid = {\n",
    "    'n_estimators': [50, 100, 200],\n",
    "    'max_depth': [10, 20, None],\n",
    "    'min_samples_split': [2, 5, 10]\n",
    "}\n",
    "\n",
    "# Initialize GridSearchCV\n",
    "grid_search = GridSearchCV(estimator=rf_model, param_grid=param_grid, cv=5, n_jobs=-1)\n",
    "\n",
    "# Fit grid search\n",
    "grid_search.fit(X_train, y_train)\n",
    "\n",
    "# Get the best parameters\n",
    "print(f\"Best parameters: {grid_search.best_params_}\")\n"
   ]
  },
  {
   "cell_type": "code",
   "execution_count": 8,
   "id": "d6d5f473-53ac-4d6c-91af-2f65aba45324",
   "metadata": {},
   "outputs": [
    {
     "name": "stdout",
     "output_type": "stream",
     "text": [
      "Test Mean Squared Error: 7.348787195076605e-05\n"
     ]
    }
   ],
   "source": [
    "y_test_pred = rf_model.predict(X_test)\n",
    "test_mse = mean_squared_error(y_test, y_test_pred)\n",
    "print(f\"Test Mean Squared Error: {test_mse}\")\n"
   ]
  },
  {
   "cell_type": "code",
   "execution_count": 9,
   "id": "be7f5774-8cba-43fb-978b-f2b5b05ae195",
   "metadata": {},
   "outputs": [
    {
     "name": "stdout",
     "output_type": "stream",
     "text": [
      "Model saved! ✅\n"
     ]
    }
   ],
   "source": [
    "import joblib\n",
    "\n",
    "# Save the trained model\n",
    "joblib.dump(rf_model, 'C:\\\\Users\\\\Kirsten\\\\weather_model.pkl')\n",
    "\n",
    "print(\"Model saved! ✅\")\n"
   ]
  },
  {
   "cell_type": "code",
   "execution_count": 11,
   "id": "8a418975-71be-441e-b364-6b326897fa2d",
   "metadata": {},
   "outputs": [
    {
     "name": "stdout",
     "output_type": "stream",
     "text": [
      "Mean Squared Error: 8.526447132432811e-33\n",
      "R-squared: 1.0\n"
     ]
    }
   ],
   "source": [
    "from sklearn.model_selection import train_test_split\n",
    "from sklearn.linear_model import LinearRegression\n",
    "from sklearn.metrics import mean_squared_error, r2_score\n",
    "\n",
    "# Split the data (if not already done)\n",
    "X = df[[\"Temperature (Fahrenheit) MAX\", \"AVG\", \"MIN\", \"Precipitation (in)\"]]  # Features\n",
    "y = df['Temperature (Fahrenheit) MAX']  # Target\n",
    "\n",
    "X_train, X_test, y_train, y_test = train_test_split(X, y, test_size=0.2, random_state=42)\n",
    "\n",
    "# Initialize and train the model\n",
    "model = LinearRegression()\n",
    "model.fit(X_train, y_train)\n",
    "\n",
    "# Make predictions\n",
    "predictions = model.predict(X_test)\n",
    "\n",
    "# Evaluate the model\n",
    "mse = mean_squared_error(y_test, predictions)\n",
    "r2 = r2_score(y_test, predictions)\n",
    "\n",
    "print(f\"Mean Squared Error: {mse}\")\n",
    "print(f\"R-squared: {r2}\")\n"
   ]
  },
  {
   "cell_type": "code",
   "execution_count": 12,
   "id": "6f54aad4-ae17-41fe-a492-7ddeb211da00",
   "metadata": {},
   "outputs": [
    {
     "data": {
      "image/png": "[encoded data removed]",
      "text/plain": [
       "<Figure size 640x480 with 1 Axes>"
      ]
     },
     "metadata": {},
     "output_type": "display_data"
    }
   ],
   "source": [
    "import matplotlib.pyplot as plt\n",
    "\n",
    "plt.scatter(y_test, predictions)\n",
    "plt.plot([min(y_test), max(y_test)], [min(y_test), max(y_test)], color='red')  # Diagonal line\n",
    "plt.xlabel('Actual Values')\n",
    "plt.ylabel('Predicted Values')\n",
    "plt.title('Actual vs Predicted')\n",
    "plt.show()\n"
   ]
  },
  {
   "cell_type": "code",
   "execution_count": 17,
   "id": "bf034415-3c69-4ed0-ae00-36d4f4fafde9",
   "metadata": {},
   "outputs": [
    {
     "name": "stdout",
     "output_type": "stream",
     "text": [
      "['Temperature (Fahrenheit) MAX' 'AVG' 'MIN' 'Precipitation (in)']\n"
     ]
    }
   ],
   "source": [
    "import pickle\n",
    "\n",
    "# Open the pickle file\n",
    "with open('C:\\\\Users\\\\Kirsten\\\\weather_model.pkl', 'rb') as file:\n",
    "    data = pickle.load(file)\n",
    "\n",
    "# Now you can use the 'data' variable which contains the loaded object\n",
    "print(data)\n",
    "# PLEASE PUT IN YOUR OWN FILE PATHS IF YOU WOULD LIKE TO RUN THIS CODE, whichever filepath youve downloaded the datasets in. "
   ]
  },
  {
   "cell_type": "code",
   "execution_count": null,
   "id": "43067fab-0415-411a-abab-f0b379189af0",
   "metadata": {},
   "outputs": [],
   "source": []
  }
 ],
 "metadata": {
  "kernelspec": {
   "display_name": "Python 3 (ipykernel)",
   "language": "python",
   "name": "python3"
  },
  "language_info": {
   "codemirror_mode": {
    "name": "ipython",
    "version": 3
   },
   "file_extension": ".py",
   "mimetype": "text/x-python",
   "name": "python",
   "nbconvert_exporter": "python",
   "pygments_lexer": "ipython3",
   "version": "3.12.7"
  }
 },
 "nbformat": 4,
 "nbformat_minor": 5
}
